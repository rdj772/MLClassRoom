{
 "cells": [
  {
   "cell_type": "code",
   "execution_count": 8,
   "metadata": {},
   "outputs": [],
   "source": [
    "#import numpy as np\n",
    "from scipy.optimize import minimize\n",
    "import math\n",
    "from random import *\n",
    "import matplotlib.pyplot as plt\n",
    "from matplotlib import colors\n",
    "import numpy as np\n",
    "import csv"
   ]
  },
  {
   "cell_type": "code",
   "execution_count": 9,
   "metadata": {},
   "outputs": [],
   "source": [
    "with open('train2.csv', 'w', newline='') as csvfile:\n",
    "    fieldnames = ['works','value','students','classWidth','classLength']\n",
    "    mlwriter = csv.DictWriter(csvfile,fieldnames=fieldnames)\n",
    "    mlwriter.writeheader()"
   ]
  },
  {
   "cell_type": "code",
   "execution_count": 10,
   "metadata": {},
   "outputs": [],
   "source": [
    "def objective(z):\n",
    "    p = 0\n",
    "    #real students to fake students/boundary\n",
    "    r = 2\n",
    "    fakeStudents = 0\n",
    "    fstudents = []\n",
    "    for i in range(0,class_x-chair_l+1):\n",
    "        fstudents.append(i)\n",
    "        fstudents.append(-r)\n",
    "        fstudents.append(i)\n",
    "        fstudents.append(class_y-chair_l+r)\n",
    "        fakeStudents = fakeStudents + 2\n",
    "    for i in range(0,class_y-chair_l+1):\n",
    "        fstudents.append(-r)\n",
    "        fstudents.append(i)\n",
    "        fstudents.append(class_x-chair_l+r)\n",
    "        fstudents.append(i)\n",
    "        fakeStudents = fakeStudents + 2\n",
    "    for i in range(1,r):\n",
    "        fstudents.append(class_x-chair_l+i)\n",
    "        fstudents.append(-r+i)\n",
    "        fstudents.append(class_x-chair_l+r-i)\n",
    "        fstudents.append(class_y-chair_l+i)\n",
    "        fstudents.append(-i)\n",
    "        fstudents.append(class_y-chair_l+r-i)\n",
    "        fstudents.append(-r+i)\n",
    "        fstudents.append(-i)\n",
    "        fakeStudents = fakeStudents + 4\n",
    "        \n",
    "    #start p computations\n",
    "    for i in range(int(len(z)/3)):\n",
    "        #real to fake students\n",
    "        for j in range(int(len(fstudents)/2)):\n",
    "            x1 = z[i*3]\n",
    "            y1 = z[i*3+1]\n",
    "            d1 = z[i*3+2]\n",
    "            x2 = fstudents[j*2]\n",
    "            y2 = fstudents[j*2+1]\n",
    "            \n",
    "            x = (x2-x1)*math.cos(d1)-(y2-y1)*math.sin(d1)\n",
    "            y = (x2-x1)*math.sin(d1)+(y2-y1)*math.cos(d1)\n",
    "\n",
    "            p = p + 8*2**(-.3*(x**2+y**2)) +5*2**(-.15*((x-2)**2+(y-2)**2))\n",
    "            p = p + 3*2**(-.1*((x-5)**2+(y-5)**2))\n",
    "            \n",
    "        #real to real students    \n",
    "        for j in range(int(len(z)/3)):\n",
    "            if i != j:\n",
    "                #equation\n",
    "                x1 = z[i*3]\n",
    "                y1 = z[i*3+1]\n",
    "                d1 = z[i*3+2] \n",
    "                x2 = z[j*3]\n",
    "                y2 = z[j*3+1]\n",
    "                \n",
    "                #depends on angle of first student\n",
    "                x = (x2-x1)*math.cos(d1)-(y2-y1)*math.sin(d1)\n",
    "                y = (x2-x1)*math.sin(d1)+(y2-y1)*math.cos(d1)\n",
    "                \n",
    "                p = p + 8*2**(-.4*(x**2+y**2)) +5*2**(-.15*((x-2)**2+(y-2)**2))\n",
    "                p = p + 3*2**(-.1*((x-5)**2+(y-5)**2))\n",
    "    return p\n",
    "\n",
    "def roundAngle(num):\n",
    "    n = (num-math.pi/4)/(2*math.pi)\n",
    "    n = n*8\n",
    "    n = round(n)%8\n",
    "    n = int(n*45)\n",
    "    return n\n",
    "\n",
    "def addChair(x,y,d):\n",
    "    #update classroom\n",
    "    #print(chair_l)\n",
    "    for i in range(y, y+chair_l):\n",
    "        for j in range(x,x+chair_l):\n",
    "            classroom[i][j] = 2\n",
    "    \n",
    "    #add chair\n",
    "    chairs.append([x,y,d])"
   ]
  },
  {
   "cell_type": "code",
   "execution_count": 11,
   "metadata": {},
   "outputs": [],
   "source": [
    "students = 5 #5\n",
    "chair_l = 2 #2\n",
    "class_y = 20 #20\n",
    "class_x = 20 #20\n",
    "\n",
    "for x in range(class_x,30):\n",
    "    for y in range(class_y,40):\n",
    "        for s in range(students,20):\n",
    "            for repeat in range(2):\n",
    "                #set up arrays\n",
    "                chairs = []\n",
    "                classroom = [[0 for i in range(class_x)] for j in range(class_y)]\n",
    "                \n",
    "                #actual bounds\n",
    "                bnds = ()\n",
    "                x_bnd = (0,class_x-2)\n",
    "                y_bnd = (0,class_y-2)\n",
    "                d_bnd = (0,4*math.pi)\n",
    "                for i in range(students):\n",
    "                    bnds = bnds + (x_bnd,y_bnd,d_bnd)\n",
    "\n",
    "                #guess\n",
    "                guess = []\n",
    "                for i in range(students):\n",
    "                    guess.append(random()*class_x)\n",
    "                    guess.append(random()*class_y)\n",
    "                    guess.append(2*math.pi)\n",
    "                cons = []\n",
    "\n",
    "                sol = minimize(objective,guess,method='SLSQP',\\\n",
    "                                bounds=bnds,constraints=cons)\n",
    "\n",
    "                #adding chairs        \n",
    "                for i in range(students):\n",
    "                    addChair(int(round(sol.x[i*3])),int(round(sol.x[i*3+1])),roundAngle(sol.x[i*3+2]))\n",
    "\n",
    "\n",
    "                with open('train2.csv', 'a', newline='') as csvfile:\n",
    "                    fieldnames = ['works','value','students','classWidth','classLength']\n",
    "                    mlwriter = csv.DictWriter(csvfile,fieldnames=fieldnames)\n",
    "                    mlwriter.writerow({'works': 1, 'value': sol.fun, 'students': s, 'classWidth': x, 'classLength': y})\n",
    "                    #mlwriter.writerow({'works': 1, 'value': sol.fun, 'students': students, 'classWidth': class_x, 'classLength': class_y}) "
   ]
  },
  {
   "cell_type": "code",
   "execution_count": null,
   "metadata": {},
   "outputs": [],
   "source": []
  },
  {
   "cell_type": "code",
   "execution_count": 13,
   "metadata": {},
   "outputs": [
    {
     "data": {
      "image/png": "[encoded data removed]",
      "text/plain": [
       "<Figure size 432x288 with 1 Axes>"
      ]
     },
     "metadata": {
      "needs_background": "light"
     },
     "output_type": "display_data"
    },
    {
     "name": "stdout",
     "output_type": "stream",
     "text": [
      "[15, 7, 225]\n",
      "[4, 4, 315]\n",
      "[14, 14, 135]\n",
      "[11, 3, 225]\n",
      "[3, 15, 45]\n"
     ]
    }
   ],
   "source": [
    "# create discrete colormap\n",
    "cmap = colors.ListedColormap(['grey','blue','green'])\n",
    "bounds = [0,1,2,3]\n",
    "norm = colors.BoundaryNorm(bounds, cmap.N)\n",
    "\n",
    "fig, ax = plt.subplots()\n",
    "ax.imshow(classroom, cmap=cmap, norm=norm)\n",
    "\n",
    "# draw gridlines\n",
    "ax.grid(which='major', axis='both', linestyle='-', color='k', linewidth=1)\n",
    "ax.set_xticks(np.arange(-.5, class_x, 5))\n",
    "ax.set_yticks(np.arange(-.5, class_y, 5))\n",
    "\n",
    "plt.show()\n",
    "for chair in chairs:\n",
    "    print(chair)"
   ]
  },
  {
   "cell_type": "code",
   "execution_count": null,
   "metadata": {},
   "outputs": [],
   "source": []
  },
  {
   "cell_type": "code",
   "execution_count": null,
   "metadata": {},
   "outputs": [],
   "source": []
  }
 ],
 "metadata": {
  "kernelspec": {
   "display_name": "Python 3",
   "language": "python",
   "name": "python3"
  },
  "language_info": {
   "codemirror_mode": {
    "name": "ipython",
    "version": 3
   },
   "file_extension": ".py",
   "mimetype": "text/x-python",
   "name": "python",
   "nbconvert_exporter": "python",
   "pygments_lexer": "ipython3",
   "version": "3.8.3"
  }
 },
 "nbformat": 4,
 "nbformat_minor": 4
}
