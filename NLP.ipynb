{
 "cells": [
  {
   "cell_type": "code",
   "execution_count": 1,
   "metadata": {},
   "outputs": [],
   "source": [
    "#import numpy as np\n",
    "from scipy.optimize import minimize\n",
    "import math\n",
    "from random import *\n",
    "import matplotlib.pyplot as plt\n",
    "from matplotlib import colors\n",
    "import numpy as np"
   ]
  },
  {
   "cell_type": "code",
   "execution_count": 2,
   "metadata": {},
   "outputs": [],
   "source": [
    "def objective(z):\n",
    "    p = 0\n",
    "    #real students to fake students/boundary\n",
    "    r = 4\n",
    "    fakeStudents = 0\n",
    "    fstudents = []\n",
    "    for i in range(0,class_x-chair_l+1,2):\n",
    "        fstudents.append(i)\n",
    "        fstudents.append(-r)\n",
    "        fstudents.append(i)\n",
    "        fstudents.append(class_y-chair_l+r)\n",
    "        fakeStudents = fakeStudents + 2\n",
    "    for i in range(0,class_y-chair_l+1,2):\n",
    "        fstudents.append(-r)\n",
    "        fstudents.append(i)\n",
    "        fstudents.append(class_x-chair_l+r)\n",
    "        fstudents.append(i)\n",
    "        fakeStudents = fakeStudents + 2\n",
    "    for i in range(1,r):\n",
    "        fstudents.append(class_x-chair_l+i)\n",
    "        fstudents.append(-r+i)\n",
    "        fstudents.append(class_x-chair_l+r-i)\n",
    "        fstudents.append(class_y-chair_l+i)\n",
    "        fstudents.append(-i)\n",
    "        fstudents.append(class_y-chair_l+r-i)\n",
    "        fstudents.append(-r+i)\n",
    "        fstudents.append(-i)\n",
    "        fakeStudents = fakeStudents + 4\n",
    "        \n",
    "    #start p computations\n",
    "    for i in range(int(len(z)/3)):\n",
    "        #real to fake students\n",
    "        for j in range(int(len(fstudents)/2)):\n",
    "            x1 = z[i*3]\n",
    "            y1 = z[i*3+1]\n",
    "            d1 = z[i*3+2]\n",
    "            x2 = fstudents[j*2]\n",
    "            y2 = fstudents[j*2+1]\n",
    "            \n",
    "            x = (x2-x1)*math.cos(d1)-(y2-y1)*math.sin(d1)\n",
    "            y = (x2-x1)*math.sin(d1)+(y2-y1)*math.cos(d1)\n",
    "\n",
    "            p = p + 8*2**(-.3*(x**2+y**2)) +5*2**(-.15*((x-2)**2+(y-2)**2))\n",
    "            p = p + 3*2**(-.1*((x-5)**2+(y-5)**2))\n",
    "            \n",
    "        #real to real students    \n",
    "        for j in range(int(len(z)/3)):\n",
    "            if i != j:\n",
    "                #equation\n",
    "                x1 = z[i*3]\n",
    "                y1 = z[i*3+1]\n",
    "                d1 = z[i*3+2] \n",
    "                x2 = z[j*3]\n",
    "                y2 = z[j*3+1]\n",
    "                \n",
    "                #depends on angle of first student\n",
    "                x = (x2-x1)*math.cos(d1)-(y2-y1)*math.sin(d1)\n",
    "                y = (x2-x1)*math.sin(d1)+(y2-y1)*math.cos(d1)\n",
    "                \n",
    "                p = p + 8*2**(-.4*(x**2+y**2)) +5*2**(-.15*((x-2)**2+(y-2)**2))\n",
    "                p = p + 3*2**(-.1*((x-5)**2+(y-5)**2))\n",
    "    return p\n",
    "\n",
    "def roundAngle(num):\n",
    "    n = (num-math.pi/4)/(2*math.pi)\n",
    "    n = n*8\n",
    "    n = round(n)%8\n",
    "    n = int(n*45)\n",
    "    return n\n",
    "\n",
    "#functions\n",
    "def addTable():\n",
    "    #find highest position number in table_placeent_ns\n",
    "    max_ns = 0\n",
    "    for i in range(class_y-(table[1]-1)):\n",
    "        for j in range(class_x-(table[0]-1)):\n",
    "            if table_placement_ns[i][j] > max_ns:\n",
    "                max_ns = table_placement_ns[i][j]\n",
    "    #find highest position number in table_placeent_ew\n",
    "    max_ew = 0\n",
    "    for i in range(class_y-(table[0]-1)):\n",
    "        for j in range(class_x-(table[1]-1)):\n",
    "            if table_placement_ew[i][j] > max_ew:\n",
    "                max_ew = table_placement_ew[i][j]\n",
    "    \n",
    "    #compare the highest position number in ns and ew\n",
    "    if (max_ns >= max_ew):\n",
    "        t = table_placement_ns\n",
    "        table_x = table[0]\n",
    "        table_y = table[1]\n",
    "        m = max_ns\n",
    "        ns_table = 1\n",
    "    else:\n",
    "        t = table_placement_ew\n",
    "        table_x = table[1]\n",
    "        table_y = table[0]\n",
    "        m = max_ew\n",
    "        ns_table = 0\n",
    "    \n",
    "    #count how many available positions there are for the specific table orientation\n",
    "    available = sum(x.count(m) for x in t)\n",
    "    \n",
    "    #rng for which position\n",
    "    num = math.ceil(random()*available)\n",
    "    #put at that position\n",
    "    for i in range(class_y-(table_y-1)):\n",
    "        for j in range(class_x-(table_x-1)):\n",
    "            if t[i][j] == m:\n",
    "                num -= 1\n",
    "            if num == 0:\n",
    "                x = j\n",
    "                y = i\n",
    "                break\n",
    "        if num == 0:\n",
    "            break\n",
    "            \n",
    "    #update classroom\n",
    "    for i in range(y, y+table_y):\n",
    "        for j in range(x,x+table_x):\n",
    "            classroom[i][j] = 1\n",
    "    \n",
    "    #update table_placement_ns\n",
    "    for i in range(y-(table[1]-1), y+table[ns_table]):\n",
    "        for j in range(x-(table[0]-1), x+table[1-ns_table]):\n",
    "            if i >= 0 and i < class_y and j >= 0 and j < class_x:\n",
    "                table_placement_ns[i][j] = 0\n",
    "    \n",
    "    #update table_placement_ew\n",
    "    for i in range(y-(table[0]-1), y+table[ns_table]):\n",
    "        for j in range(x-(table[1]-1), x+table[1-ns_table]):\n",
    "            if i >= 0 and i < class_y and j >= 0 and j < class_x:\n",
    "                table_placement_ew[i][j] = 0\n",
    "    \n",
    "    #add table\n",
    "    tables.append([x, y, ns_table])\n",
    "    \n",
    "def addChair(x,y,d):\n",
    "    available = sum(x1.count(1) for x1 in chair_placement)\n",
    "    if available <= 0:\n",
    "        return -1\n",
    "    \n",
    "    #update classroom\n",
    "    #print(chair_l)\n",
    "    for i in range(y, y+chair_l):\n",
    "        for j in range(x,x+chair_l):\n",
    "            classroom[i][j] = 2\n",
    "            \n",
    "    #update table_placement_ns\n",
    "    for i in range(y-table[1], y+chair_l+1):\n",
    "        for j in range(x-table[0], x+chair_l+1):\n",
    "            if i >= 0 and i < class_y and j >= 0 and j < class_x and table_placement_ns[i][j]!=0:\n",
    "                if i >= y-(table[1]-1) and i < y+chair_l and j >= x-(table[0]-1) and j < x+chair_l:\n",
    "                    table_placement_ns[i][j] = 0\n",
    "                else:\n",
    "                    if j == x+chair_l and i > y-table[1] and i < y+chair_l and(d>=315 or d<=45):\n",
    "                        table_placement_ns[i][j] = table_placement_ns[i][j] + 1\n",
    "                    if i == y-table[1] and j > x-table[0] and j < x+chair_l and d>=45 and d<=135:\n",
    "                        table_placement_ns[i][j] = table_placement_ns[i][j] + 1\n",
    "                    if j == x-table[0] and i > y-table[1] and i < y+chair_l and d>=135 and d<=225:\n",
    "                        table_placement_ns[i][j] = table_placement_ns[i][j] + 1\n",
    "                    if i == y+chair_l and j > x-table[0] and j < x+chair_l and d>=225 and d<=315:\n",
    "                        table_placement_ns[i][j] = table_placement_ns[i][j] + 1\n",
    "                    \n",
    "    #update table_placement_ew\n",
    "    for i in range(y-table[0], y+chair_l+1):\n",
    "        for j in range(x-table[1], x+chair_l+1):\n",
    "            if i >= 0 and i < class_y and j >= 0 and j < class_x and table_placement_ew[i][j]!=0:\n",
    "                if  i >= y-(table[0]-1) and i < y+chair_l and j >= x-(table[1]-1) and j < x+chair_l:\n",
    "                    table_placement_ew[i][j] = 0\n",
    "                else:\n",
    "                    if j == x+chair_l and i > y-table[0] and i < y+chair_l and(d>=315 or d<=45):\n",
    "                        table_placement_ew[i][j] = table_placement_ew[i][j] + 1\n",
    "                    if i == y-table[0] and j > x-table[1] and j < x+chair_l and d>=45 and d<=135:\n",
    "                        table_placement_ew[i][j] = table_placement_ew[i][j] + 1\n",
    "                    if j == x-table[1] and i > y-table[0] and i < y+chair_l and d>=135 and d<=225:\n",
    "                        table_placement_ew[i][j] = table_placement_ew[i][j] + 1\n",
    "                    if i == y+chair_l and j > x-table[1] and j < x+chair_l and d>=225 and d<=315:\n",
    "                        table_placement_ew[i][j] = table_placement_ew[i][j] + 1\n",
    "    \n",
    "    #change this\n",
    "    #update chair_placement\n",
    "    for i in range(class_y):\n",
    "        for j in range(class_x):\n",
    "            if math.sqrt((i-y)**2 + (j-x)**2) < 6:\n",
    "                chair_placement[i][j] = 0\n",
    "    \n",
    "    #add chair\n",
    "    chairs.append([x,y,d])"
   ]
  },
  {
   "cell_type": "code",
   "execution_count": 36,
   "metadata": {},
   "outputs": [],
   "source": [
    "students = 2\n",
    "class_y = 8\n",
    "class_x = 8\n",
    "chair_l = 2 #make sure 0 index is smaller than 1 index\n",
    "#set input\n",
    "table_long = 6\n",
    "table_short = 2\n",
    "table_num = 1\n",
    "table = [int(table_short),int(table_long)]\n",
    "\n",
    "#set up arrays\n",
    "tables = []\n",
    "chairs = []\n",
    "classroom = [[0 for i in range(class_x)] for j in range(class_y)]\n",
    "chair_placement = [[1 for i in range(class_x)] for j in range(class_y)]\n",
    "#hard code for seat length = 2\n",
    "for i in range(class_y):\n",
    "    chair_placement[i][class_x-1] = 0       \n",
    "for j in range(class_x):\n",
    "    chair_placement[class_y-1][j] = 0  \n",
    "table_placement_ns = [[1 for i in range(class_x)] for j in range(class_y)]\n",
    "table_placement_ew = [[1 for i in range(class_x)] for j in range(class_y)]\n",
    "for i in range(class_y):\n",
    "    for j in range(class_x):\n",
    "        if j >= class_x-(table_long-1) or i >= class_y-(table_short-1):\n",
    "            table_placement_ew[i][j] = 0\n",
    "for i in range(class_y):\n",
    "    for j in range(class_x):\n",
    "        if j >= class_x-(table_short-1) or i >= class_y-(table_long-1):\n",
    "            table_placement_ns[i][j] = 0"
   ]
  },
  {
   "cell_type": "code",
   "execution_count": 37,
   "metadata": {},
   "outputs": [
    {
     "name": "stdout",
     "output_type": "stream",
     "text": [
      "47.23202292399475\n"
     ]
    }
   ],
   "source": [
    "#actual bounds\n",
    "bnds = ()\n",
    "x_bnd = (0,class_x-2)\n",
    "y_bnd = (0,class_y-2)\n",
    "d_bnd = (0,4*math.pi)\n",
    "for i in range(students):\n",
    "    bnds = bnds + (x_bnd,y_bnd,d_bnd)\n",
    "\n",
    "#guess\n",
    "guess = []\n",
    "for i in range(students):\n",
    "    guess.append(random()*class_x)\n",
    "    guess.append(random()*class_y)\n",
    "    guess.append(2*math.pi)\n",
    "print(objective(guess))\n",
    "\n",
    "#con1 = {'type': 'ineq','fun': constraint1}\n",
    "cons = []"
   ]
  },
  {
   "cell_type": "code",
   "execution_count": 38,
   "metadata": {},
   "outputs": [],
   "source": [
    "sol = minimize(objective,guess,method='SLSQP',\\\n",
    "                bounds=bnds,constraints=cons)"
   ]
  },
  {
   "cell_type": "code",
   "execution_count": 39,
   "metadata": {},
   "outputs": [
    {
     "name": "stdout",
     "output_type": "stream",
     "text": [
      "     fun: 22.130675722193086\n",
      "     jac: array([ 4.58118439e-01, -2.56299973e-04, -5.94854355e-04, -4.30345535e-04,\n",
      "       -2.99882412e-01,  2.84075737e-03])\n",
      " message: 'Optimization terminated successfully'\n",
      "    nfev: 127\n",
      "     nit: 17\n",
      "    njev: 17\n",
      "  status: 0\n",
      " success: True\n",
      "       x: array([0.        , 1.07334504, 6.67283715, 0.94130927, 6.        ,\n",
      "       7.8845391 ])\n"
     ]
    }
   ],
   "source": [
    "#adding and chairs        \n",
    "for i in range(students):\n",
    "    if (addChair(int(round(sol.x[i*3])),int(round(sol.x[i*3+1])),roundAngle(sol.x[i*3+2])) == -1):\n",
    "        print(\"Not enough space!\")\n",
    "\n",
    "print(sol)"
   ]
  },
  {
   "cell_type": "code",
   "execution_count": 40,
   "metadata": {},
   "outputs": [
    {
     "name": "stdout",
     "output_type": "stream",
     "text": [
      "[0.         1.07334504 6.67283715] 315\n",
      "[0.94130927 6.         7.8845391 ] 45\n"
     ]
    }
   ],
   "source": [
    "for i in range(int(len(sol.x)/3)):\n",
    "    print(sol.x[i*3:(i+1)*3], end = \" \")\n",
    "    print(roundAngle(sol.x[i*3+2]))"
   ]
  },
  {
   "cell_type": "code",
   "execution_count": null,
   "metadata": {},
   "outputs": [],
   "source": []
  },
  {
   "cell_type": "code",
   "execution_count": 41,
   "metadata": {},
   "outputs": [
    {
     "data": {
      "image/png": "[encoded data removed]",
      "text/plain": [
       "<Figure size 432x288 with 1 Axes>"
      ]
     },
     "metadata": {
      "needs_background": "light"
     },
     "output_type": "display_data"
    },
    {
     "name": "stdout",
     "output_type": "stream",
     "text": [
      "[0, 1, 315]\n",
      "[1, 6, 45]\n"
     ]
    }
   ],
   "source": [
    "# create discrete colormap\n",
    "cmap = colors.ListedColormap(['grey','blue','green'])\n",
    "bounds = [0,1,2,3]\n",
    "norm = colors.BoundaryNorm(bounds, cmap.N)\n",
    "\n",
    "fig, ax = plt.subplots()\n",
    "ax.imshow(classroom, cmap=cmap, norm=norm)\n",
    "\n",
    "# draw gridlines\n",
    "ax.grid(which='major', axis='both', linestyle='-', color='k', linewidth=1)\n",
    "ax.set_xticks(np.arange(-.5, class_x, 5))\n",
    "ax.set_yticks(np.arange(-.5, class_y, 5))\n",
    "\n",
    "plt.show()\n",
    "for chair in chairs:\n",
    "    print(chair)"
   ]
  },
  {
   "cell_type": "code",
   "execution_count": 42,
   "metadata": {},
   "outputs": [
    {
     "name": "stdout",
     "output_type": "stream",
     "text": [
      "[0, 0, 3, 1, 1, 1, 1, 0]\n",
      "[0, 0, 0, 2, 1, 1, 1, 0]\n",
      "[0, 0, 0, 2, 1, 1, 1, 0]\n",
      "[0, 0, 0, 0, 0, 0, 0, 0]\n",
      "[0, 0, 0, 0, 0, 0, 0, 0]\n",
      "[0, 0, 0, 0, 0, 0, 0, 0]\n",
      "[0, 0, 0, 0, 0, 0, 0, 0]\n",
      "[0, 0, 0, 0, 0, 0, 0, 0]\n",
      "\n",
      "\n",
      "[0, 0, 2, 0, 0, 0, 0, 0]\n",
      "[0, 0, 2, 0, 0, 0, 0, 0]\n",
      "[0, 0, 2, 0, 0, 0, 0, 0]\n",
      "[2, 2, 1, 0, 0, 0, 0, 0]\n",
      "[2, 2, 2, 0, 0, 0, 0, 0]\n",
      "[0, 0, 0, 0, 0, 0, 0, 0]\n",
      "[0, 0, 0, 0, 0, 0, 0, 0]\n",
      "[0, 0, 0, 0, 0, 0, 0, 0]\n",
      "\n",
      "\n"
     ]
    }
   ],
   "source": [
    "#Debug\n",
    "#for i in range(class_y):\n",
    "#    print(classroom[i], end = \"\\n\")\n",
    "#print(\"\\n\")\n",
    "for i in range(class_y):\n",
    "    print(table_placement_ns[i], end = \"\\n\")\n",
    "print(\"\\n\")\n",
    "for i in range(class_y):\n",
    "    print(table_placement_ew[i], end = \"\\n\")\n",
    "print(\"\\n\")\n",
    "#for i in range(class_y):\n",
    "#    print(chair_placement[i], end = \"\\n\")"
   ]
  },
  {
   "cell_type": "code",
   "execution_count": 43,
   "metadata": {},
   "outputs": [
    {
     "data": {
      "image/png": "[encoded data removed]",
      "text/plain": [
       "<Figure size 432x288 with 1 Axes>"
      ]
     },
     "metadata": {
      "needs_background": "light"
     },
     "output_type": "display_data"
    }
   ],
   "source": [
    "for i in range(table_num):\n",
    "    if (addTable() == -1):\n",
    "        print(\"Not enough space!\")\n",
    "        \n",
    "# create discrete colormap\n",
    "cmap = colors.ListedColormap(['grey','blue','green'])\n",
    "bounds = [0,1,2,3]\n",
    "norm = colors.BoundaryNorm(bounds, cmap.N)\n",
    "\n",
    "fig, ax = plt.subplots()\n",
    "ax.imshow(classroom, cmap=cmap, norm=norm)\n",
    "\n",
    "# draw gridlines\n",
    "ax.grid(which='major', axis='both', linestyle='-', color='k', linewidth=1)\n",
    "ax.set_xticks(np.arange(-.5, class_x, 5))\n",
    "ax.set_yticks(np.arange(-.5, class_y, 5))\n",
    "\n",
    "plt.show()"
   ]
  },
  {
   "cell_type": "code",
   "execution_count": 26,
   "metadata": {},
   "outputs": [
    {
     "name": "stdout",
     "output_type": "stream",
     "text": [
      "[1, 1, 1, 0, 0, 0, 0, 0]\n",
      "[1, 1, 1, 0, 0, 0, 0, 0]\n",
      "[1, 1, 1, 0, 0, 0, 0, 0]\n",
      "[0, 0, 0, 0, 0, 0, 0, 0]\n",
      "[0, 0, 0, 0, 0, 0, 0, 0]\n",
      "[0, 0, 0, 0, 0, 0, 0, 0]\n",
      "[0, 0, 0, 0, 0, 0, 0, 0]\n",
      "[0, 0, 0, 0, 0, 0, 0, 0]\n",
      "\n",
      "\n",
      "[0, 0, 0, 0, 0, 0, 0, 0]\n",
      "[0, 0, 0, 0, 0, 0, 0, 0]\n",
      "[0, 0, 0, 0, 0, 0, 0, 0]\n",
      "[0, 0, 0, 0, 0, 0, 0, 0]\n",
      "[0, 0, 0, 0, 0, 0, 0, 0]\n",
      "[0, 0, 0, 0, 0, 0, 0, 0]\n",
      "[0, 0, 0, 0, 0, 0, 0, 0]\n",
      "[0, 0, 0, 0, 0, 0, 0, 0]\n",
      "\n",
      "\n"
     ]
    }
   ],
   "source": [
    "#Debug\n",
    "#for i in range(class_y):\n",
    "#    print(classroom[i], end = \"\\n\")\n",
    "#print(\"\\n\")\n",
    "for i in range(class_y):\n",
    "    print(table_placement_ns[i], end = \"\\n\")\n",
    "print(\"\\n\")\n",
    "for i in range(class_y):\n",
    "    print(table_placement_ew[i], end = \"\\n\")\n",
    "print(\"\\n\")\n",
    "#for i in range(class_y):\n",
    "#    print(chair_placement[i], end = \"\\n\")"
   ]
  },
  {
   "cell_type": "code",
   "execution_count": null,
   "metadata": {},
   "outputs": [],
   "source": []
  },
  {
   "cell_type": "code",
   "execution_count": null,
   "metadata": {},
   "outputs": [],
   "source": []
  }
 ],
 "metadata": {
  "kernelspec": {
   "display_name": "Python 3",
   "language": "python",
   "name": "python3"
  },
  "language_info": {
   "codemirror_mode": {
    "name": "ipython",
    "version": 3
   },
   "file_extension": ".py",
   "mimetype": "text/x-python",
   "name": "python",
   "nbconvert_exporter": "python",
   "pygments_lexer": "ipython3",
   "version": "3.8.3"
  }
 },
 "nbformat": 4,
 "nbformat_minor": 4
}
