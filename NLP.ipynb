{
 "cells": [
  {
   "cell_type": "code",
   "execution_count": 88,
   "metadata": {},
   "outputs": [],
   "source": [
    "#import numpy as np\n",
    "from scipy.optimize import minimize\n",
    "import math"
   ]
  },
  {
   "cell_type": "code",
   "execution_count": 241,
   "metadata": {},
   "outputs": [],
   "source": [
    "def objective(z):\n",
    "    p = 0\n",
    "    for i in range(int(len(z)/3)):\n",
    "        for j in range(int(len(z)/3)):\n",
    "            if i != j:\n",
    "                #equation\n",
    "                x1 = z[i*3]\n",
    "                y1 = z[i*3+1]\n",
    "                d1 = z[i*3+2] \n",
    "                x2 = z[j*3]\n",
    "                y2 = z[j*3+1]\n",
    "                #depends on angle of first student\n",
    "                \n",
    "                x = (x2-x1)*math.cos(d1)+(y2-y1)*math.sin(d1)\n",
    "                y = (x2-x1)*math.sin(d1)+(y2-y1)*math.cos(d1)\n",
    "                v1 = ( cube3(x)-cube3(x-6) )\n",
    "                v2 = ( cube3(y)-cube3(y-6) )\n",
    "                value = v1 * v2\n",
    "                p = p + value\n",
    "    return p\n",
    "\n",
    "def cube3(num):\n",
    "    sign = 1\n",
    "    if num < 0:\n",
    "        sign = -1\n",
    "        num = abs(num)\n",
    "    num = num**(1/3)\n",
    "    num = num * sign\n",
    "    return num"
   ]
  },
  {
   "cell_type": "code",
   "execution_count": 242,
   "metadata": {},
   "outputs": [
    {
     "name": "stdout",
     "output_type": "stream",
     "text": [
      "311.7047683768908\n"
     ]
    }
   ],
   "source": [
    "students = 10\n",
    "guess = []\n",
    "for i in range(students):\n",
    "    guess.append(i)\n",
    "    guess.append(i)\n",
    "    guess.append(0)\n",
    "print(objective(guess))"
   ]
  },
  {
   "cell_type": "code",
   "execution_count": 243,
   "metadata": {},
   "outputs": [],
   "source": [
    "class_y = 30\n",
    "class_x = 20\n",
    "x_bnd = (0,class_x)\n",
    "y_bnd = (0,class_y)\n",
    "d_bnd = (0,2*math.pi)\n",
    "bnds = ()\n",
    "for i in range(students):\n",
    "    bnds = bnds + (x_bnd,y_bnd,d_bnd)\n",
    "#con1 = {'type': 'ineq','fun': constraint1}\n",
    "#con2 = {'type': 'eq','fun': constraint2}\n",
    "cons = []"
   ]
  },
  {
   "cell_type": "code",
   "execution_count": 244,
   "metadata": {},
   "outputs": [],
   "source": [
    "sol = minimize(objective,guess,method='SLSQP',\\\n",
    "                bounds=bnds,constraints=cons)"
   ]
  },
  {
   "cell_type": "code",
   "execution_count": 245,
   "metadata": {},
   "outputs": [
    {
     "name": "stdout",
     "output_type": "stream",
     "text": [
      "     fun: 25.325407885107314\n",
      "     jac: array([-9.15694237e-03,  2.11653709e-02, -4.18150187e-01,  4.40359831e-01,\n",
      "       -4.82654572e-03,  7.18832016e-02, -4.96819019e-02,  6.15167618e-03,\n",
      "        2.73089409e-01, -1.73741245e+00, -1.03900433e-02,  1.63004735e+01,\n",
      "       -1.18951321e-01,  5.57967663e-01,  6.56173944e-01, -4.70271111e-02,\n",
      "        2.82893181e-02,  8.81390572e-02,  1.48367405e-01,  1.18109496e+01,\n",
      "        4.69656467e-01,  3.33965063e-01,  6.01530075e-03, -1.36437893e-01,\n",
      "        1.15676880e-01, -3.97555828e-02,  6.10129833e-01,  9.23859596e-01,\n",
      "       -1.23755662e+01, -2.56160511e+02])\n",
      " message: 'Iteration limit reached'\n",
      "    nfev: 3286\n",
      "     nit: 100\n",
      "    njev: 99\n",
      "  status: 9\n",
      " success: False\n",
      "       x: array([1.31225737e+01, 0.00000000e+00, 1.20579240e+00, 0.00000000e+00,\n",
      "       2.54572962e+00, 7.88547320e-01, 1.16879309e+01, 2.23884546e+01,\n",
      "       8.03540063e-02, 1.99682228e+01, 2.06942183e+01, 6.27732339e+00,\n",
      "       1.28150843e+00, 6.47033281e-12, 6.12606480e+00, 1.94743786e+01,\n",
      "       1.02688327e+01, 3.22504155e+00, 0.00000000e+00, 2.99994367e+01,\n",
      "       2.02501853e-01, 0.00000000e+00, 2.03952881e+01, 2.23152314e+00,\n",
      "       2.86729995e+00, 1.26675090e+01, 3.80682474e-02, 2.00000000e+01,\n",
      "       3.00000000e+01, 6.28318531e+00])\n"
     ]
    }
   ],
   "source": [
    "print(sol)"
   ]
  },
  {
   "cell_type": "code",
   "execution_count": 246,
   "metadata": {},
   "outputs": [
    {
     "name": "stdout",
     "output_type": "stream",
     "text": [
      "[13.12257374  0.          1.2057924 ]\n",
      "[0.         2.54572962 0.78854732]\n",
      "[11.68793088 22.3884546   0.08035401]\n",
      "[19.96822278 20.6942183   6.27732339]\n",
      "[1.28150843e+00 6.47033281e-12 6.12606480e+00]\n",
      "[19.4743786  10.26883268  3.22504155]\n",
      "[ 0.         29.99943669  0.20250185]\n",
      "[ 0.         20.3952881   2.23152314]\n",
      "[ 2.86729995 12.66750904  0.03806825]\n",
      "[20.         30.          6.28318531]\n"
     ]
    }
   ],
   "source": [
    "for i in range(int(len(sol.x)/3)):\n",
    "    print(sol.x[i*3:(i+1)*3])"
   ]
  },
  {
   "cell_type": "code",
   "execution_count": null,
   "metadata": {},
   "outputs": [],
   "source": []
  },
  {
   "cell_type": "code",
   "execution_count": null,
   "metadata": {},
   "outputs": [],
   "source": []
  },
  {
   "cell_type": "code",
   "execution_count": null,
   "metadata": {},
   "outputs": [],
   "source": []
  }
 ],
 "metadata": {
  "kernelspec": {
   "display_name": "Python 3",
   "language": "python",
   "name": "python3"
  },
  "language_info": {
   "codemirror_mode": {
    "name": "ipython",
    "version": 3
   },
   "file_extension": ".py",
   "mimetype": "text/x-python",
   "name": "python",
   "nbconvert_exporter": "python",
   "pygments_lexer": "ipython3",
   "version": "3.8.3"
  }
 },
 "nbformat": 4,
 "nbformat_minor": 4
}
