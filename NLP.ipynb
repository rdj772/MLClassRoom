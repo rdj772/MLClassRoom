{
 "cells": [
  {
   "cell_type": "code",
   "execution_count": 32,
   "metadata": {},
   "outputs": [],
   "source": [
    "#import numpy as np\n",
    "from scipy.optimize import minimize\n",
    "import math\n",
    "from random import *\n",
    "import matplotlib.pyplot as plt\n",
    "from matplotlib import colors\n",
    "import numpy as np"
   ]
  },
  {
   "cell_type": "code",
   "execution_count": 147,
   "metadata": {},
   "outputs": [],
   "source": [
    "def objective(z):\n",
    "    p = 0\n",
    "    for i in range(int(len(z)/3)):\n",
    "        for j in range(int(len(z)/3)):\n",
    "            if i != j:\n",
    "                #equation\n",
    "                x1 = z[i*3]\n",
    "                y1 = z[i*3+1]\n",
    "                d1 = z[i*3+2] \n",
    "                x2 = z[j*3]\n",
    "                y2 = z[j*3+1]\n",
    "                #depends on angle of first student\n",
    "                \n",
    "                x = (x2-x1)*math.cos(d1)+(y2-y1)*math.sin(d1)\n",
    "                y = (x2-x1)*math.sin(d1)+(y2-y1)*math.cos(d1)\n",
    "                v1 = ( cube3(x)-cube3(x-6) )\n",
    "                v2 = ( cube3(y)-cube3(y-6) )\n",
    "                value = v1 * v2\n",
    "                p = p + value\n",
    "    return p\n",
    "\n",
    "def cube3(num):\n",
    "    sign = 1\n",
    "    if num < 0:\n",
    "        sign = -1\n",
    "        num = abs(num)\n",
    "    num = num**(1/3)\n",
    "    num = num * sign\n",
    "    return num"
   ]
  },
  {
   "cell_type": "code",
   "execution_count": 148,
   "metadata": {},
   "outputs": [
    {
     "name": "stdout",
     "output_type": "stream",
     "text": [
      "115.29523825404364\n"
     ]
    }
   ],
   "source": [
    "students = 10\n",
    "guess = []\n",
    "space = int(round((class_y * class_x) / students))\n",
    "index = 0\n",
    "for i in range(students):\n",
    "    yspot = int(index/class_x) \n",
    "    xspot = int(index%class_x)\n",
    "    guess.append(3*i)\n",
    "    guess.append(3*i)\n",
    "    guess.append(0)\n",
    "    index += space\n",
    "print(objective(guess))"
   ]
  },
  {
   "cell_type": "code",
   "execution_count": 149,
   "metadata": {},
   "outputs": [],
   "source": [
    "class_y = 30\n",
    "class_x = 20\n",
    "x_bnd = (0,class_x-2)\n",
    "y_bnd = (0,class_y-2)\n",
    "d_bnd = (0,2*math.pi)\n",
    "bnds = ()\n",
    "for i in range(students):\n",
    "    bnds = bnds + (y_bnd,x_bnd,d_bnd)\n",
    "#con1 = {'type': 'ineq','fun': constraint1}\n",
    "#con2 = {'type': 'eq','fun': constraint2}\n",
    "cons = []"
   ]
  },
  {
   "cell_type": "code",
   "execution_count": 150,
   "metadata": {},
   "outputs": [],
   "source": [
    "sol = minimize(objective,guess,method='SLSQP',\\\n",
    "                bounds=bnds,constraints=cons)"
   ]
  },
  {
   "cell_type": "code",
   "execution_count": 151,
   "metadata": {},
   "outputs": [
    {
     "name": "stdout",
     "output_type": "stream",
     "text": [
      "     fun: 26.007584462998878\n",
      "     jac: array([ 2.35502720e-02,  4.90196228e-01, -6.20775223e-02, -1.01648092e-01,\n",
      "       -6.82420731e-02, -7.92403221e-01,  1.07136965e-01,  8.25068951e-02,\n",
      "       -2.39827633e-01,  5.39050102e-01, -5.38163185e-02, -6.00810051e-02,\n",
      "        1.32653713e-02, -4.58459854e-02, -1.08496666e-01, -1.44195557e-03,\n",
      "        2.93353558e-01,  3.10682297e-01,  1.02636814e-02,  5.49163346e+01,\n",
      "        2.52809525e-01, -2.96571255e-02, -5.53860588e+01,  8.22259140e+02,\n",
      "       -2.84481049e-03, -3.72946739e-01, -7.01520443e-01, -5.57675600e-01,\n",
      "        1.44517422e-01,  1.04703808e+00])\n",
      " message: 'Iteration limit reached'\n",
      "    nfev: 3200\n",
      "     nit: 100\n",
      "    njev: 100\n",
      "  status: 9\n",
      " success: False\n",
      "       x: array([1.74055078e+00, 7.50434900e-10, 3.37349467e+00, 2.52489206e-01,\n",
      "       1.03488554e+01, 5.06103619e-01, 4.35228529e+00, 2.11871031e+00,\n",
      "       6.25262002e+00, 1.43317929e-09, 1.07380472e+00, 3.91815548e+00,\n",
      "       1.74175401e+01, 9.04276573e+00, 7.77871549e-01, 1.55695465e+01,\n",
      "       1.06184781e-08, 3.03988266e+00, 1.94861144e+01, 1.79998871e+01,\n",
      "       1.50786837e+00, 4.54423762e+00, 1.80000000e+01, 4.78624077e-12,\n",
      "       2.67592495e+01, 1.41531118e+01, 6.68111021e-01, 2.80000000e+01,\n",
      "       1.09815476e+01, 1.49039555e-10])\n"
     ]
    }
   ],
   "source": [
    "print(sol)"
   ]
  },
  {
   "cell_type": "code",
   "execution_count": 152,
   "metadata": {},
   "outputs": [
    {
     "name": "stdout",
     "output_type": "stream",
     "text": [
      "[1.74055078e+00 7.50434900e-10 3.37349467e+00]\n",
      "[ 0.25248921 10.34885539  0.50610362]\n",
      "[4.35228529 2.11871031 6.25262002]\n",
      "[1.43317929e-09 1.07380472e+00 3.91815548e+00]\n",
      "[17.41754014  9.04276573  0.77787155]\n",
      "[1.55695465e+01 1.06184781e-08 3.03988266e+00]\n",
      "[19.48611438 17.99988712  1.50786837]\n",
      "[4.54423762e+00 1.80000000e+01 4.78624077e-12]\n",
      "[26.75924945 14.15311182  0.66811102]\n",
      "[2.80000000e+01 1.09815476e+01 1.49039555e-10]\n"
     ]
    }
   ],
   "source": [
    "for i in range(int(len(sol.x)/3)):\n",
    "    print(sol.x[i*3:(i+1)*3])"
   ]
  },
  {
   "cell_type": "code",
   "execution_count": null,
   "metadata": {},
   "outputs": [],
   "source": []
  },
  {
   "cell_type": "code",
   "execution_count": 153,
   "metadata": {},
   "outputs": [],
   "source": [
    "#functions\n",
    "def addTable(x,y,d):\n",
    "    #randomize table orientation\n",
    "    ns_table = bool(math.floor(random()*2))\n",
    "    if ns_table and sum(x.count(1) for x in table_placement_ns) == 0:\n",
    "        if sum(x.count(1) for x in table_placement_ew) == 0:\n",
    "            return -1\n",
    "        else:\n",
    "            ns_table = False\n",
    "    elif sum(x.count(1) for x in table_placement_ew) == 0:\n",
    "        if sum(x.count(1) for x in table_placement_ns) == 0:\n",
    "            return -1\n",
    "        else:\n",
    "            ns_table = True\n",
    "    table_x = table[1-ns_table]\n",
    "    table_y = table[ns_table]\n",
    "    if ns_table:\n",
    "        t = table_placement_ns\n",
    "    else:\n",
    "        t = table_placement_ew\n",
    "    #count how many available positions there are for the specific table orientation\n",
    "    available = sum(x.count(1) for x in t)\n",
    "    #rng for which position\n",
    "    num = math.ceil(random()*available)\n",
    "    #put at that position\n",
    "    for i in range(class_y):\n",
    "        for j in range(class_x):\n",
    "            if t[i][j] == 1:\n",
    "                num -= 1\n",
    "            if num == 0:\n",
    "                x = j\n",
    "                y = i\n",
    "                break\n",
    "        if num == 0:\n",
    "            break\n",
    "            \n",
    "    #update classroom\n",
    "    for i in range(y, y+table_y):\n",
    "        for j in range(x,x+table_x):\n",
    "            classroom[i][j] = 1\n",
    "    \n",
    "    #update table_placement_ns\n",
    "    for i in range(y-(table[1]-1), y+table[ns_table]):\n",
    "        for j in range(x-(table[0]-1), x+table[1-ns_table]):\n",
    "            if i >= 0 and i < class_y and j >= 0 and j < class_x:\n",
    "                table_placement_ns[i][j] = 0\n",
    "    \n",
    "    #update table_placement_ew\n",
    "    for i in range(y-(table[0]-1), y+table[ns_table]):\n",
    "        for j in range(x-(table[1]-1), x+table[1-ns_table]):\n",
    "            if i >= 0 and i < class_y and j >= 0 and j < class_x:\n",
    "                table_placement_ew[i][j] = 0\n",
    "    \n",
    "    #update chair_placement    \n",
    "    for i in range(y-(chair[0]), y+table[ns_table]+1):\n",
    "        for j in range(x-(chair[0]), x+table[1-ns_table]+1):\n",
    "            if i >= 0 and i < class_y and j >= 0 and j < class_x:\n",
    "                if i==y-(chair[0]) and j==x-(chair[0]) or i==y-chair[0] and j==x+table[1-ns_table] or i==y+table[ns_table] and j==x-chair[0] or i==y+table[ns_table] and j==x+table[1-ns_table]:\n",
    "                    continue\n",
    "                elif (i==y-chair[0] or i==y+table[ns_table] or j==x-chair[0] or j==x+table[1-ns_table]) and chair_placement[i][j]!=0:\n",
    "                    chair_placement[i][j] = 2\n",
    "                else:\n",
    "                    chair_placement[i][j] = 0\n",
    "    #add table\n",
    "    tables.append([x, y, ns_table])"
   ]
  },
  {
   "cell_type": "code",
   "execution_count": 154,
   "metadata": {},
   "outputs": [],
   "source": [
    "def addChair(y,x,d):\n",
    "    #count how many chair positions there are\n",
    "    pref = 2\n",
    "    available = sum(x1.count(pref) for x1 in chair_placement)\n",
    "    if available <= 0:\n",
    "        pref = 1\n",
    "    if pref == 1:\n",
    "        available = sum(x1.count(pref) for x1 in chair_placement)\n",
    "        if available <= 0:\n",
    "            return -1\n",
    "    \n",
    "    #update classroom\n",
    "    for i in range(y, y+chair[0]):\n",
    "        for j in range(x,x+chair[1]):\n",
    "            classroom[i][j] = 2\n",
    "            \n",
    "    #update table_placement_ns\n",
    "    for i in range(y-(table[1]-1), y+chair[0]):\n",
    "        for j in range(x-(table[0]-1), x+chair[0]):\n",
    "            if i >= 0 and i < class_y and j >= 0 and j < class_x:\n",
    "                table_placement_ns[i][j] = 0\n",
    "    \n",
    "    #update talbe_placement_ew\n",
    "    for i in range(y-(table[0]-1), y+chair[0]):\n",
    "        for j in range(x-(table[1]-1), x+chair[0]):\n",
    "            if i >= 0 and i < class_y and j >= 0 and j < class_x:\n",
    "                table_placement_ew[i][j] = 0\n",
    "    \n",
    "    #update chair_placement\n",
    "    for i in range(class_y):\n",
    "        for j in range(class_x):\n",
    "            if math.sqrt((i-y)**2 + (j-x)**2) < 6:\n",
    "                chair_placement[i][j] = 0\n",
    "    \n",
    "    #add chair\n",
    "    chairs.append([x,y,d])"
   ]
  },
  {
   "cell_type": "code",
   "execution_count": 155,
   "metadata": {},
   "outputs": [
    {
     "name": "stdout",
     "output_type": "stream",
     "text": [
      "Enter length of classroom in feet: 30\n",
      "Enter width of classroom in feet: 20\n"
     ]
    }
   ],
   "source": [
    "#prompt input\n",
    "class_y = int(input(\"Enter length of classroom in feet: \"))\n",
    "class_x = int(input(\"Enter width of classroom in feet: \"))\n",
    "#table_long = input(\"Enter length of table in feet: \")\n",
    "#table_short = input(\"Enter width of table feet: \")\n",
    "#if (table_short > table_long):\n",
    "#    temp = table_short\n",
    "#    table_short = table_long\n",
    "#    table_long = temp\n",
    "#table == [int(table_short),int(table_long)]\n",
    "#table_num = input(\"Enter how many tables: \")\n",
    "#students = input(\"Enter how many students there are: \")\n",
    "chair = [2,2] #make sure 0 index is smaller than 1 index"
   ]
  },
  {
   "cell_type": "code",
   "execution_count": 156,
   "metadata": {},
   "outputs": [],
   "source": [
    "#set input\n",
    "table_long = 4\n",
    "table_short = 2\n",
    "table_num = 10\n",
    "students = 10\n",
    "table = [int(table_short),int(table_long)]\n",
    "#set up arrays\n",
    "tables = []\n",
    "chairs = []\n",
    "classroom = [[0 for i in range(class_x)] for j in range(class_y)]\n",
    "chair_placement = [[1 for i in range(class_x)] for j in range(class_y)]\n",
    "for i in range(class_y):\n",
    "    chair_placement[i][class_x-1] = 0       \n",
    "for j in range(class_x):\n",
    "    chair_placement[class_y-1][j] = 0  \n",
    "table_placement_ns = [[1 for i in range(class_x)] for j in range(class_y)]\n",
    "table_placement_ew = [[1 for i in range(class_x)] for j in range(class_y)]\n",
    "for i in range(class_y):\n",
    "    for j in range(class_x):\n",
    "        if j >= class_x-(table_long-1) or i >= class_y-(table_short-1):\n",
    "            table_placement_ew[i][j] = 0\n",
    "for i in range(class_y):\n",
    "    for j in range(class_x):\n",
    "        if j >= class_x-(table_short-1) or i >= class_y-(table_long-1):\n",
    "            table_placement_ns[i][j] = 0\n",
    "            \n",
    "#adding tables and chairs\n",
    "#for i in range(table_num):\n",
    "#    if (addTable() == -1):\n",
    "#        print(\"Not enough space!\")\n",
    "        \n",
    "for i in range(int(len(sol.x)/3)):\n",
    "    if (addChair(int(round(sol.x[i*3])),int(round(sol.x[i*3+1])),sol.x[i*3]+2) == -1):\n",
    "        print(\"Not enough space!\")"
   ]
  },
  {
   "cell_type": "code",
   "execution_count": 157,
   "metadata": {},
   "outputs": [
    {
     "data": {
      "image/png": "[encoded data removed]",
      "text/plain": [
       "<Figure size 432x288 with 1 Axes>"
      ]
     },
     "metadata": {
      "needs_background": "light"
     },
     "output_type": "display_data"
    }
   ],
   "source": [
    "# create discrete colormap\n",
    "cmap = colors.ListedColormap(['grey','blue','green'])\n",
    "bounds = [0,1,2,3]\n",
    "norm = colors.BoundaryNorm(bounds, cmap.N)\n",
    "\n",
    "fig, ax = plt.subplots()\n",
    "ax.imshow(classroom, cmap=cmap, norm=norm)\n",
    "\n",
    "# draw gridlines\n",
    "ax.grid(which='major', axis='both', linestyle='-', color='k', linewidth=1)\n",
    "ax.set_xticks(np.arange(-.5, class_x, 5))\n",
    "ax.set_yticks(np.arange(-.5, class_y, 5))\n",
    "\n",
    "plt.show()"
   ]
  },
  {
   "cell_type": "code",
   "execution_count": null,
   "metadata": {},
   "outputs": [],
   "source": []
  },
  {
   "cell_type": "code",
   "execution_count": null,
   "metadata": {},
   "outputs": [],
   "source": []
  }
 ],
 "metadata": {
  "kernelspec": {
   "display_name": "Python 3",
   "language": "python",
   "name": "python3"
  },
  "language_info": {
   "codemirror_mode": {
    "name": "ipython",
    "version": 3
   },
   "file_extension": ".py",
   "mimetype": "text/x-python",
   "name": "python",
   "nbconvert_exporter": "python",
   "pygments_lexer": "ipython3",
   "version": "3.8.3"
  }
 },
 "nbformat": 4,
 "nbformat_minor": 4
}
