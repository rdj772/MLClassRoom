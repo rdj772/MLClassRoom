{
 "cells": [
  {
   "cell_type": "code",
   "execution_count": 30,
   "metadata": {},
   "outputs": [],
   "source": [
    "import math\n",
    "from random import *\n",
    "import matplotlib.pyplot as plt\n",
    "from matplotlib import colors\n",
    "import numpy as np"
   ]
  },
  {
   "cell_type": "code",
   "execution_count": 31,
   "metadata": {},
   "outputs": [],
   "source": [
    "#functions\n",
    "def addTable():\n",
    "    #find highest position number in table_placeent_ns\n",
    "    max_ns = 0\n",
    "    for i in range(class_y-(table[1]-1)):\n",
    "        for j in range(class_x-(table[0]-1)):\n",
    "            if table_placement_ns[i][j] > max_ns:\n",
    "                max_ns = table_placement_ns[i][j]\n",
    "    #find highest position number in table_placeent_ew\n",
    "    max_ew = 0\n",
    "    for i in range(class_y-(table[0]-1)):\n",
    "        for j in range(class_x-(table[1]-1)):\n",
    "            if table_placement_ew[i][j] > max_ew:\n",
    "                max_ew = table_placement_ew[i][j]\n",
    "    \n",
    "    #compare the highest position number in ns and ew\n",
    "    if (max_ns >= max_ew):\n",
    "        t = table_placement_ns\n",
    "        table_x = table[0]\n",
    "        table_y = table[1]\n",
    "        m = max_ns\n",
    "        ns_table = 1\n",
    "    else:\n",
    "        t = table_placement_ew\n",
    "        table_x = table[1]\n",
    "        table_y = table[0]\n",
    "        m = max_ew\n",
    "        ns_table = 0\n",
    "    \n",
    "    #count how many available positions there are for the specific table orientation\n",
    "    available = sum(x.count(m) for x in t)\n",
    "    #rng for which position\n",
    "    num = math.ceil(random()*available)\n",
    "    #put at that position\n",
    "    for i in range(class_y-(table_y-1)):\n",
    "        for j in range(class_x-(table_x-1)):\n",
    "            if t[i][j] == m:\n",
    "                num -= 1\n",
    "            if num == 0:\n",
    "                x = j\n",
    "                y = i\n",
    "                break\n",
    "        if num == 0:\n",
    "            break\n",
    "            \n",
    "    #update classroom\n",
    "    for i in range(y, y+table_y):\n",
    "        for j in range(x,x+table_x):\n",
    "            classroom[i][j] = 1\n",
    "    \n",
    "    #update table_placement_ns\n",
    "    for i in range(y-(table[1]-1), y+table[ns_table]):\n",
    "        for j in range(x-(table[0]-1), x+table[1-ns_table]):\n",
    "            if i >= 0 and i < class_y and j >= 0 and j < class_x:\n",
    "                table_placement_ns[i][j] = 0\n",
    "    \n",
    "    #update table_placement_ew\n",
    "    for i in range(y-(table[0]-1), y+table[ns_table]):\n",
    "        for j in range(x-(table[1]-1), x+table[1-ns_table]):\n",
    "            if i >= 0 and i < class_y and j >= 0 and j < class_x:\n",
    "                table_placement_ew[i][j] = 0\n",
    "    \n",
    "    #add table\n",
    "    tables.append([x, y, ns_table])"
   ]
  },
  {
   "cell_type": "code",
   "execution_count": 32,
   "metadata": {},
   "outputs": [],
   "source": [
    "def addChair():\n",
    "    #count how many chair positions there are\n",
    "    available = sum(x.count(1) for x in chair_placement)\n",
    "    if available <= 0:\n",
    "        return -1\n",
    "        \n",
    "    #rng for which position\n",
    "    num = math.ceil(random()*available)\n",
    "    #put at that position\n",
    "    for i in range(class_y):\n",
    "        for j in range(class_x):\n",
    "            if chair_placement[i][j] == 1:\n",
    "                num -= 1\n",
    "            if num == 0:\n",
    "                x = j\n",
    "                y = i\n",
    "                break\n",
    "        if num == 0:\n",
    "            break\n",
    "    \n",
    "    #randomize direction\n",
    "    d = math.floor(random()*8)*45\n",
    "    \n",
    "    #update classroom\n",
    "    #print(chair_l)\n",
    "    for i in range(y, y+chair_l):\n",
    "        for j in range(x,x+chair_l):\n",
    "            classroom[i][j] = 2\n",
    "            \n",
    "    #update table_placement_ns\n",
    "    for i in range(y-table[1], y+chair_l+1):\n",
    "        for j in range(x-table[0], x+chair_l+1):\n",
    "            if i >= 0 and i < class_y and j >= 0 and j < class_x and table_placement_ns[i][j]!=0:\n",
    "                if i >= y-(table[1]-1) and i < y+chair_l and j >= x-(table[0]-1) and j < x+chair_l:\n",
    "                    table_placement_ns[i][j] = 0\n",
    "                else:\n",
    "                    if j == x+chair_l and i > y-table[1] and i < y+chair_l and(d>=315 or d<=45):\n",
    "                        table_placement_ns[i][j] = table_placement_ns[i][j] + 1\n",
    "                    if i == y-table[1] and j > x-table[0] and j < x+chair_l and d>=45 and d<=135:\n",
    "                        table_placement_ns[i][j] = table_placement_ns[i][j] + 1\n",
    "                    if j == x-table[0] and i > y-table[1] and i < y+chair_l and d>=135 and d<=225:\n",
    "                        table_placement_ns[i][j] = table_placement_ns[i][j] + 1\n",
    "                    if i == y+chair_l and j > x-table[0] and j < x+chair_l and d>=225 and d<=315:\n",
    "                        table_placement_ns[i][j] = table_placement_ns[i][j] + 1\n",
    "                    \n",
    "    #update table_placement_ew\n",
    "    for i in range(y-table[0], y+chair_l+1):\n",
    "        for j in range(x-table[1], x+chair_l+1):\n",
    "            if i >= 0 and i < class_y and j >= 0 and j < class_x and table_placement_ew[i][j]!=0:\n",
    "                if  i >= y-(table[0]-1) and i < y+chair_l and j >= x-(table[1]-1) and j < x+chair_l:\n",
    "                    table_placement_ew[i][j] = 0\n",
    "                else:\n",
    "                    if j == x+chair_l and i > y-table[0] and i < y+chair_l and(d>=315 or d<=45):\n",
    "                        table_placement_ew[i][j] = table_placement_ew[i][j] + 1\n",
    "                    if i == y-table[0] and j > x-table[1] and j < x+chair_l and d>=45 and d<=135:\n",
    "                        table_placement_ew[i][j] = table_placement_ew[i][j] + 1\n",
    "                    if j == x-table[1] and i > y-table[0] and i < y+chair_l and d>=135 and d<=225:\n",
    "                        table_placement_ew[i][j] = table_placement_ew[i][j] + 1\n",
    "                    if i == y+chair_l and j > x-table[1] and j < x+chair_l and d>=225 and d<=315:\n",
    "                        table_placement_ew[i][j] = table_placement_ew[i][j] + 1\n",
    "    \n",
    "    #change this\n",
    "    #update chair_placement\n",
    "    for i in range(class_y):\n",
    "        for j in range(class_x):\n",
    "            if math.sqrt((i-y)**2 + (j-x)**2) < 3:\n",
    "                chair_placement[i][j] = 0\n",
    "    \n",
    "    #add chair\n",
    "    chairs.append([x,y,d])"
   ]
  },
  {
   "cell_type": "code",
   "execution_count": 38,
   "metadata": {},
   "outputs": [],
   "source": [
    "#set input\n",
    "students = 10\n",
    "class_y = 30\n",
    "class_x = 20\n",
    "table_long = 4\n",
    "table_short = 2\n",
    "table_num = 5\n",
    "if (table_short > table_long):\n",
    "    temp = table_short\n",
    "    table_short = table_long\n",
    "    table_long = temp\n",
    "table = [int(table_short),int(table_long)]\n",
    "chair_l = 2 #make sure 0 index is smaller than 1 index"
   ]
  },
  {
   "cell_type": "code",
   "execution_count": null,
   "metadata": {},
   "outputs": [],
   "source": []
  },
  {
   "cell_type": "code",
   "execution_count": 39,
   "metadata": {
    "scrolled": false
   },
   "outputs": [],
   "source": [
    "#set up arrays\n",
    "tables = []\n",
    "chairs = []\n",
    "classroom = [[0 for i in range(class_x)] for j in range(class_y)]\n",
    "chair_placement = [[1 for i in range(class_x)] for j in range(class_y)]\n",
    "for i in range(class_y):\n",
    "    chair_placement[i][class_x-1] = 0       \n",
    "for j in range(class_x):\n",
    "    chair_placement[class_y-1][j] = 0  \n",
    "table_placement_ns = [[1 for i in range(class_x)] for j in range(class_y)]\n",
    "table_placement_ew = [[1 for i in range(class_x)] for j in range(class_y)]\n",
    "for i in range(class_y):\n",
    "    for j in range(class_x):\n",
    "        if j >= class_x-(table_long-1) or i >= class_y-(table_short-1):\n",
    "            table_placement_ew[i][j] = 0\n",
    "for i in range(class_y):\n",
    "    for j in range(class_x):\n",
    "        if j >= class_x-(table_short-1) or i >= class_y-(table_long-1):\n",
    "            table_placement_ns[i][j] = 0\n",
    "\n",
    "            #adding tables and chairs        \n",
    "for i in range(students):\n",
    "    if (addChair() == -1):\n",
    "        print(\"Not enough space!\")\n",
    "        \n",
    "for i in range(table_num):\n",
    "    if (addTable() == -1):\n",
    "        print(\"Not enough space!\")"
   ]
  },
  {
   "cell_type": "code",
   "execution_count": 40,
   "metadata": {},
   "outputs": [
    {
     "data": {
      "image/png": "[encoded data removed]",
      "text/plain": [
       "<Figure size 432x288 with 1 Axes>"
      ]
     },
     "metadata": {
      "needs_background": "light"
     },
     "output_type": "display_data"
    }
   ],
   "source": [
    "# create discrete colormap\n",
    "cmap = colors.ListedColormap(['grey','blue','green'])\n",
    "bounds = [0,1,2,3]\n",
    "norm = colors.BoundaryNorm(bounds, cmap.N)\n",
    "\n",
    "fig, ax = plt.subplots()\n",
    "ax.imshow(classroom, cmap=cmap, norm=norm)\n",
    "\n",
    "# draw gridlines\n",
    "ax.grid(which='major', axis='both', linestyle='-', color='k', linewidth=1)\n",
    "ax.set_xticks(np.arange(-.5, class_x, 5))\n",
    "ax.set_yticks(np.arange(-.5, class_y, 5))\n",
    "\n",
    "plt.show()"
   ]
  },
  {
   "cell_type": "code",
   "execution_count": 36,
   "metadata": {},
   "outputs": [
    {
     "name": "stdout",
     "output_type": "stream",
     "text": [
      "Tables: \n",
      "[[13, 6, 1], [8, 22, 1], [15, 19, 1], [4, 16, 1], [7, 12, 1], [18, 5, 1], [5, 12, 1], [13, 22, 1], [16, 8, 1], [11, 13, 1]]\n",
      "Chairs: \n",
      "[[11, 8, 0], [18, 3, 270], [6, 10, 270], [2, 15, 0], [5, 23, 0], [10, 22, 180], [12, 11, 270], [15, 6, 225], [13, 18, 0], [11, 25, 0]]\n"
     ]
    }
   ],
   "source": [
    "print(\"Tables: \") \n",
    "print(tables)\n",
    "print(\"Chairs: \") \n",
    "print(chairs)"
   ]
  },
  {
   "cell_type": "code",
   "execution_count": 37,
   "metadata": {},
   "outputs": [
    {
     "name": "stdout",
     "output_type": "stream",
     "text": [
      "[1, 1, 1, 1, 1, 1, 1, 1, 1, 1, 1, 1, 1, 1, 1, 1, 1, 0, 0, 0]\n",
      "[1, 1, 1, 1, 1, 1, 1, 1, 1, 1, 1, 1, 1, 1, 1, 1, 1, 0, 0, 0]\n",
      "[1, 1, 1, 1, 1, 1, 1, 1, 1, 1, 1, 1, 1, 1, 1, 1, 1, 0, 0, 0]\n",
      "[1, 1, 1, 1, 1, 1, 1, 1, 1, 1, 1, 1, 0, 0, 0, 0, 0, 0, 0, 0]\n",
      "[1, 1, 1, 1, 1, 1, 1, 1, 1, 1, 1, 1, 0, 0, 0, 0, 0, 0, 0, 0]\n",
      "[1, 1, 1, 1, 1, 1, 1, 1, 1, 1, 0, 0, 0, 0, 0, 0, 0, 0, 0, 0]\n",
      "[1, 1, 1, 1, 1, 1, 1, 1, 1, 1, 0, 0, 0, 0, 0, 0, 0, 0, 0, 0]\n",
      "[1, 1, 1, 1, 1, 0, 0, 0, 1, 1, 0, 0, 0, 0, 0, 0, 0, 0, 0, 0]\n",
      "[1, 1, 1, 1, 1, 0, 0, 0, 1, 1, 0, 0, 0, 0, 0, 0, 0, 0, 0, 0]\n",
      "[1, 1, 1, 1, 0, 0, 0, 0, 0, 1, 0, 0, 0, 0, 0, 0, 0, 0, 1, 0]\n",
      "[1, 1, 1, 1, 0, 0, 0, 0, 0, 1, 0, 0, 0, 0, 1, 0, 0, 0, 1, 0]\n",
      "[1, 1, 1, 1, 0, 0, 0, 0, 0, 1, 0, 0, 0, 0, 1, 0, 0, 0, 1, 0]\n",
      "[1, 0, 0, 0, 0, 0, 0, 0, 0, 1, 0, 0, 0, 0, 1, 1, 1, 1, 1, 0]\n",
      "[1, 0, 0, 0, 0, 0, 0, 0, 0, 1, 0, 0, 0, 2, 1, 1, 1, 1, 1, 0]\n",
      "[1, 0, 0, 0, 0, 0, 0, 0, 0, 1, 0, 0, 0, 1, 1, 1, 1, 1, 1, 0]\n",
      "[1, 0, 0, 0, 0, 0, 0, 0, 0, 1, 0, 0, 0, 0, 0, 2, 1, 1, 1, 0]\n",
      "[1, 0, 0, 0, 0, 0, 1, 1, 1, 1, 0, 0, 0, 0, 0, 0, 0, 1, 1, 0]\n",
      "[1, 1, 1, 0, 0, 0, 1, 1, 1, 1, 1, 1, 0, 0, 0, 0, 0, 1, 1, 0]\n",
      "[1, 1, 1, 0, 0, 0, 1, 1, 1, 1, 1, 1, 0, 0, 0, 0, 0, 1, 1, 0]\n",
      "[1, 1, 1, 0, 0, 0, 1, 0, 0, 0, 0, 0, 0, 0, 0, 0, 0, 1, 1, 0]\n",
      "[1, 1, 1, 1, 0, 0, 0, 0, 0, 0, 0, 0, 0, 0, 0, 0, 0, 1, 1, 0]\n",
      "[1, 1, 1, 1, 0, 0, 0, 0, 0, 0, 0, 0, 0, 0, 0, 0, 0, 1, 1, 0]\n",
      "[1, 1, 1, 1, 0, 0, 0, 0, 0, 0, 0, 0, 0, 0, 0, 0, 0, 1, 1, 0]\n",
      "[1, 1, 1, 1, 0, 0, 0, 0, 0, 0, 0, 0, 0, 0, 0, 1, 1, 1, 1, 0]\n",
      "[1, 1, 1, 1, 0, 0, 0, 0, 0, 0, 0, 0, 0, 0, 0, 1, 1, 1, 1, 0]\n",
      "[1, 1, 1, 1, 1, 1, 1, 0, 0, 0, 0, 0, 0, 0, 0, 1, 1, 1, 1, 0]\n",
      "[1, 1, 1, 1, 1, 1, 1, 1, 1, 1, 0, 0, 0, 2, 1, 1, 1, 1, 1, 0]\n",
      "[0, 0, 0, 0, 0, 0, 0, 0, 0, 0, 0, 0, 0, 0, 0, 0, 0, 0, 0, 0]\n",
      "[0, 0, 0, 0, 0, 0, 0, 0, 0, 0, 0, 0, 0, 0, 0, 0, 0, 0, 0, 0]\n",
      "[0, 0, 0, 0, 0, 0, 0, 0, 0, 0, 0, 0, 0, 0, 0, 0, 0, 0, 0, 0]\n",
      "\n",
      "\n"
     ]
    }
   ],
   "source": [
    "#Debug\n",
    "#for i in range(class_y):\n",
    "#    print(classroom[i], end = \"\\n\")\n",
    "#print(\"\\n\")\n",
    "for i in range(class_y):\n",
    "    print(table_placement_ns[i], end = \"\\n\")\n",
    "print(\"\\n\")\n",
    "#for i in range(class_y):\n",
    "#    print(table_placement_ew[i], end = \"\\n\")\n",
    "#print(\"\\n\")\n",
    "#for i in range(class_y):\n",
    "#    print(chair_placement[i], end = \"\\n\")"
   ]
  },
  {
   "cell_type": "code",
   "execution_count": null,
   "metadata": {},
   "outputs": [],
   "source": []
  },
  {
   "cell_type": "code",
   "execution_count": null,
   "metadata": {},
   "outputs": [],
   "source": []
  },
  {
   "cell_type": "code",
   "execution_count": null,
   "metadata": {},
   "outputs": [],
   "source": []
  },
  {
   "cell_type": "code",
   "execution_count": null,
   "metadata": {},
   "outputs": [],
   "source": []
  }
 ],
 "metadata": {
  "kernelspec": {
   "display_name": "Python 3",
   "language": "python",
   "name": "python3"
  },
  "language_info": {
   "codemirror_mode": {
    "name": "ipython",
    "version": 3
   },
   "file_extension": ".py",
   "mimetype": "text/x-python",
   "name": "python",
   "nbconvert_exporter": "python",
   "pygments_lexer": "ipython3",
   "version": "3.8.3"
  }
 },
 "nbformat": 4,
 "nbformat_minor": 4
}
