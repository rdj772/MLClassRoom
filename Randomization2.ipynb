{
 "cells": [
  {
   "cell_type": "code",
   "execution_count": 9,
   "metadata": {},
   "outputs": [],
   "source": [
    "import math\n",
    "from random import *\n",
    "import matplotlib.pyplot as plt\n",
    "from matplotlib import colors\n",
    "import numpy as np"
   ]
  },
  {
   "cell_type": "code",
   "execution_count": null,
   "metadata": {},
   "outputs": [],
   "source": []
  },
  {
   "cell_type": "code",
   "execution_count": 10,
   "metadata": {},
   "outputs": [],
   "source": [
    "def objective(z):\n",
    "    p = 0\n",
    "    #real students to fake students/boundary\n",
    "    r = 2\n",
    "    fakeStudents = 0\n",
    "    fstudents = []\n",
    "    for i in range(0,class_x-chair_l+1):\n",
    "        fstudents.append(i)\n",
    "        fstudents.append(-r)\n",
    "        fstudents.append(i)\n",
    "        fstudents.append(class_y-chair_l+r)\n",
    "        fakeStudents = fakeStudents + 2\n",
    "    for i in range(0,class_y-chair_l+1):\n",
    "        fstudents.append(-r)\n",
    "        fstudents.append(i)\n",
    "        fstudents.append(class_x-chair_l+r)\n",
    "        fstudents.append(i)\n",
    "        fakeStudents = fakeStudents + 2\n",
    "    for i in range(1,r):\n",
    "        fstudents.append(class_x-chair_l+i)\n",
    "        fstudents.append(-r+i)\n",
    "        fstudents.append(class_x-chair_l+r-i)\n",
    "        fstudents.append(class_y-chair_l+i)\n",
    "        fstudents.append(-i)\n",
    "        fstudents.append(class_y-chair_l+r-i)\n",
    "        fstudents.append(-r+i)\n",
    "        fstudents.append(-i)\n",
    "        fakeStudents = fakeStudents + 4\n",
    "        \n",
    "    #start p computations\n",
    "    for i in range(len(z)):\n",
    "        #real to fake students\n",
    "        for j in range(int(len(fstudents)/2)):\n",
    "            x1 = z[i][0]\n",
    "            y1 = z[i][1]\n",
    "            d1 = z[i][2] \n",
    "            x2 = fstudents[j*2]\n",
    "            y2 = fstudents[j*2+1]\n",
    "            \n",
    "            x = (x2-x1)*math.cos(d1)-(y2-y1)*math.sin(d1)\n",
    "            y = (x2-x1)*math.sin(d1)+(y2-y1)*math.cos(d1)\n",
    "\n",
    "            p = p + 8*2**(-.3*(x**2+y**2)) +5*2**(-.15*((x-2)**2+(y-2)**2))\n",
    "            p = p + 3*2**(-.1*((x-5)**2+(y-5)**2))\n",
    "            \n",
    "        #real to real students    \n",
    "        for j in range(len(z)):\n",
    "            if i != j:\n",
    "                #equation\n",
    "                x1 = z[i][0]\n",
    "                y1 = z[i][1]\n",
    "                d1 = z[i][2] \n",
    "                x2 = z[j][0]\n",
    "                y2 = z[j][1]\n",
    "                \n",
    "                #depends on angle of first student\n",
    "                x = (x2-x1)*math.cos(d1)-(y2-y1)*math.sin(d1)\n",
    "                y = (x2-x1)*math.sin(d1)+(y2-y1)*math.cos(d1)\n",
    "                \n",
    "                p = p + 8*2**(-.3*(x**2+y**2)) +5*2**(-.15*((x-2)**2+(y-2)**2))\n",
    "                p = p + 3*2**(-.1*((x-5)**2+(y-5)**2))\n",
    "    return p\n",
    "\n",
    "def oneObj(x1,y1,d1,x2,y2):\n",
    "    p = 0\n",
    "    x = (x2-x1)*math.cos(d1)-(y2-y1)*math.sin(d1)\n",
    "    y = (x2-x1)*math.sin(d1)+(y2-y1)*math.cos(d1)\n",
    "    \n",
    "    p = p + 8*2**(-.3*(x**2+y**2)) +5*2**(-.15*((x-2)**2+(y-2)**2))\n",
    "    p = p + 3*2**(-.1*((x-5)**2+(y-5)**2))\n",
    "    return p\n",
    "\n",
    "def roundAngle(num):\n",
    "    n = (num-math.pi/4)/(2*math.pi)\n",
    "    n = n*8\n",
    "    n = round(n)%8\n",
    "    n = int(n*45)\n",
    "    return n\n",
    "\n",
    "def addChair():\n",
    "    #count how many chair positions there are\n",
    "    available = sum(x.count(1) for x in chair_placement)\n",
    "    if available <= 0:\n",
    "        return -1\n",
    "        \n",
    "    #rng for which position\n",
    "    num = math.ceil(random()*available)\n",
    "    #put at that position\n",
    "    for i in range(class_y):\n",
    "        for j in range(class_x):\n",
    "            if chair_placement[i][j] == 1:\n",
    "                num = num - 1\n",
    "            if num == 0:\n",
    "                x = j\n",
    "                y = i\n",
    "                break\n",
    "        if num == 0:\n",
    "            break\n",
    "    \n",
    "    #randomize direction\n",
    "    run = 0\n",
    "    conflict = True\n",
    "    d = math.floor(random()*8)*45\n",
    "    while(run < 8 and conflict):\n",
    "        run = run+1\n",
    "        conflict = False\n",
    "        d = (d+45)%360\n",
    "        for chair in chairs:\n",
    "            if(oneObj(x,y,d,chair[0],chair[1])) > 2:\n",
    "                conflict = True\n",
    "                break\n",
    "            w = [[x,y,d]]\n",
    "            if(objective(w)) > 3:\n",
    "                conflict= True\n",
    "                break\n",
    "        \n",
    "    \n",
    "    #update classroom\n",
    "    for i in range(y, y+chair_l):\n",
    "        for j in range(x,x+chair_l):\n",
    "            classroom[i][j] = 2\n",
    "    \n",
    "    #update chair_placement\n",
    "    for i in range(class_y):\n",
    "        for j in range(class_x):\n",
    "            if math.sqrt((i-y)**2 + (j-x)**2) < 4 or oneObj(x,y,d,j,i) > 3:\n",
    "                chair_placement[i][j] = 0\n",
    "\n",
    "    #add chair\n",
    "    chairs.append([x,y,d])"
   ]
  },
  {
   "cell_type": "code",
   "execution_count": 11,
   "metadata": {},
   "outputs": [],
   "source": [
    "#set input\n",
    "students = 10\n",
    "class_y = 30\n",
    "class_x = 20\n",
    "table_long = 4\n",
    "table_short = 2\n",
    "table_num = 5\n",
    "if (table_short > table_long):\n",
    "    temp = table_short\n",
    "    table_short = table_long\n",
    "    table_long = temp\n",
    "table = [int(table_short),int(table_long)]\n",
    "chair_l = 2 #make sure 0 index is smaller than 1 index"
   ]
  },
  {
   "cell_type": "code",
   "execution_count": 12,
   "metadata": {},
   "outputs": [
    {
     "name": "stdout",
     "output_type": "stream",
     "text": [
      "136.98236777715994\n"
     ]
    }
   ],
   "source": [
    "chairs = []\n",
    "classroom = [[0 for i in range(class_x)] for j in range(class_y)]\n",
    "chair_placement = [[1 for i in range(class_x)] for j in range(class_y)]\n",
    "for i in range(class_y):\n",
    "    chair_placement[i][class_x-1] = 0       \n",
    "for j in range(class_x):\n",
    "    chair_placement[class_y-1][j] = 0  \n",
    "\n",
    "#adding tables and chairs        \n",
    "for i in range(students):\n",
    "    addChair()\n",
    "\n",
    "obj = objective(chairs)\n",
    "print(obj)"
   ]
  },
  {
   "cell_type": "code",
   "execution_count": 13,
   "metadata": {
    "scrolled": false
   },
   "outputs": [
    {
     "name": "stdout",
     "output_type": "stream",
     "text": [
      "105\n",
      "67.3202713332726\n"
     ]
    }
   ],
   "source": [
    "#set up arrays\n",
    "obj = 81\n",
    "ran = 0 \n",
    "while(obj > 80):\n",
    "    ran = ran+1\n",
    "    chairs = []\n",
    "    classroom = [[0 for i in range(class_x)] for j in range(class_y)]\n",
    "    chair_placement = [[1 for i in range(class_x)] for j in range(class_y)]\n",
    "    for i in range(class_y):\n",
    "        chair_placement[i][class_x-1] = 0       \n",
    "    for j in range(class_x):\n",
    "        chair_placement[class_y-1][j] = 0  \n",
    "\n",
    "    #adding tables and chairs        \n",
    "    for i in range(students):\n",
    "        addChair()\n",
    "    \n",
    "    obj = objective(chairs)\n",
    "print(ran)\n",
    "print(obj)"
   ]
  },
  {
   "cell_type": "code",
   "execution_count": 14,
   "metadata": {},
   "outputs": [
    {
     "data": {
      "image/png": "[encoded data removed]",
      "text/plain": [
       "<Figure size 432x288 with 1 Axes>"
      ]
     },
     "metadata": {
      "needs_background": "light"
     },
     "output_type": "display_data"
    }
   ],
   "source": [
    "# create discrete colormap\n",
    "cmap = colors.ListedColormap(['grey','blue','green'])\n",
    "bounds = [0,1,2,3]\n",
    "norm = colors.BoundaryNorm(bounds, cmap.N)\n",
    "\n",
    "fig, ax = plt.subplots()\n",
    "ax.imshow(classroom, cmap=cmap, norm=norm)\n",
    "\n",
    "# draw gridlines\n",
    "ax.grid(which='major', axis='both', linestyle='-', color='k', linewidth=1)\n",
    "ax.set_xticks(np.arange(-.5, class_x, 5))\n",
    "ax.set_yticks(np.arange(-.5, class_y, 5))\n",
    "\n",
    "plt.show()"
   ]
  },
  {
   "cell_type": "code",
   "execution_count": 15,
   "metadata": {},
   "outputs": [
    {
     "name": "stdout",
     "output_type": "stream",
     "text": [
      "Chairs: \n",
      "[[14, 9, 180], [16, 27, 0], [3, 20, 45], [7, 26, 90], [8, 14, 270], [1, 13, 0], [2, 9, 315], [14, 14, 225], [9, 3, 225], [3, 5, 0]]\n",
      "[1, 1, 1, 1, 1, 1, 1, 0, 0, 0, 0, 0, 1, 1, 1, 1, 1, 1, 1, 0]\n",
      "[1, 1, 1, 1, 1, 1, 0, 0, 0, 0, 0, 0, 0, 1, 1, 1, 1, 1, 1, 0]\n",
      "[1, 0, 0, 0, 0, 0, 0, 0, 0, 0, 0, 0, 0, 1, 1, 1, 1, 1, 1, 0]\n",
      "[0, 0, 0, 0, 0, 0, 0, 0, 0, 0, 0, 0, 0, 1, 1, 1, 1, 1, 1, 0]\n",
      "[0, 0, 0, 0, 0, 0, 0, 0, 0, 0, 0, 0, 0, 1, 1, 1, 1, 1, 1, 0]\n",
      "[0, 0, 0, 0, 0, 0, 0, 0, 0, 0, 0, 0, 0, 1, 1, 1, 1, 1, 1, 0]\n",
      "[0, 0, 0, 0, 0, 0, 0, 0, 0, 0, 0, 0, 0, 0, 0, 0, 0, 1, 1, 0]\n",
      "[0, 0, 0, 0, 0, 0, 0, 0, 0, 0, 0, 0, 0, 0, 0, 0, 0, 0, 1, 0]\n",
      "[0, 0, 0, 0, 0, 0, 0, 0, 0, 0, 0, 0, 0, 0, 0, 0, 0, 0, 1, 0]\n",
      "[0, 0, 0, 0, 0, 0, 0, 0, 0, 0, 0, 0, 0, 0, 0, 0, 0, 0, 1, 0]\n",
      "[0, 0, 0, 0, 0, 0, 0, 0, 0, 0, 0, 0, 0, 0, 0, 0, 0, 0, 1, 0]\n",
      "[0, 0, 0, 0, 0, 0, 0, 0, 0, 0, 0, 0, 0, 0, 0, 0, 0, 0, 1, 0]\n",
      "[0, 0, 0, 0, 0, 0, 0, 0, 0, 0, 0, 0, 0, 0, 0, 0, 0, 0, 1, 0]\n",
      "[0, 0, 0, 0, 0, 0, 0, 0, 0, 0, 0, 0, 0, 0, 0, 0, 0, 0, 1, 0]\n",
      "[0, 0, 0, 0, 0, 0, 0, 0, 0, 0, 0, 0, 0, 0, 0, 0, 0, 0, 1, 0]\n",
      "[0, 0, 0, 0, 0, 0, 0, 0, 0, 0, 0, 0, 0, 0, 0, 0, 0, 0, 1, 0]\n",
      "[0, 0, 0, 0, 0, 0, 0, 0, 0, 0, 0, 0, 0, 0, 0, 0, 0, 0, 1, 0]\n",
      "[1, 0, 0, 0, 0, 0, 0, 0, 0, 0, 0, 0, 0, 0, 0, 0, 0, 1, 1, 0]\n",
      "[0, 0, 0, 0, 0, 0, 0, 0, 0, 0, 0, 0, 0, 0, 0, 0, 1, 1, 1, 0]\n",
      "[0, 0, 0, 0, 0, 0, 0, 0, 0, 0, 0, 0, 0, 0, 0, 1, 1, 1, 1, 0]\n",
      "[0, 0, 0, 0, 0, 0, 0, 0, 0, 0, 0, 0, 0, 0, 0, 1, 1, 1, 1, 0]\n",
      "[0, 0, 0, 0, 0, 0, 0, 0, 0, 0, 0, 0, 0, 0, 1, 1, 1, 1, 1, 0]\n",
      "[0, 0, 0, 0, 0, 0, 0, 0, 0, 0, 0, 1, 1, 1, 1, 1, 1, 1, 1, 0]\n",
      "[1, 0, 0, 0, 0, 0, 0, 0, 0, 0, 0, 1, 1, 1, 1, 1, 1, 1, 1, 0]\n",
      "[1, 1, 1, 1, 0, 0, 0, 0, 0, 0, 0, 1, 1, 1, 0, 0, 0, 0, 0, 0]\n",
      "[1, 1, 1, 1, 0, 0, 0, 0, 0, 0, 0, 1, 1, 0, 0, 0, 0, 0, 0, 0]\n",
      "[1, 1, 1, 1, 0, 0, 0, 0, 0, 0, 0, 1, 1, 0, 0, 0, 0, 0, 0, 0]\n",
      "[1, 1, 1, 1, 0, 0, 0, 0, 0, 0, 0, 1, 1, 0, 0, 0, 0, 0, 0, 0]\n",
      "[1, 1, 1, 1, 0, 0, 0, 0, 0, 0, 0, 1, 1, 0, 0, 0, 0, 0, 0, 0]\n",
      "[0, 0, 0, 0, 0, 0, 0, 0, 0, 0, 0, 0, 0, 0, 0, 0, 0, 0, 0, 0]\n",
      "\n",
      "\n"
     ]
    }
   ],
   "source": [
    "print(\"Chairs: \") \n",
    "print(chairs)\n",
    "for i in range(class_y):\n",
    "    print(chair_placement[i], end = \"\\n\")\n",
    "print(\"\\n\")"
   ]
  },
  {
   "cell_type": "code",
   "execution_count": null,
   "metadata": {},
   "outputs": [],
   "source": []
  },
  {
   "cell_type": "code",
   "execution_count": null,
   "metadata": {},
   "outputs": [],
   "source": []
  },
  {
   "cell_type": "code",
   "execution_count": null,
   "metadata": {},
   "outputs": [],
   "source": []
  },
  {
   "cell_type": "code",
   "execution_count": null,
   "metadata": {},
   "outputs": [],
   "source": []
  },
  {
   "cell_type": "code",
   "execution_count": null,
   "metadata": {},
   "outputs": [],
   "source": []
  }
 ],
 "metadata": {
  "kernelspec": {
   "display_name": "Python 3",
   "language": "python",
   "name": "python3"
  },
  "language_info": {
   "codemirror_mode": {
    "name": "ipython",
    "version": 3
   },
   "file_extension": ".py",
   "mimetype": "text/x-python",
   "name": "python",
   "nbconvert_exporter": "python",
   "pygments_lexer": "ipython3",
   "version": "3.8.3"
  }
 },
 "nbformat": 4,
 "nbformat_minor": 4
}
