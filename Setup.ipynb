{
 "cells": [
  {
   "cell_type": "code",
   "execution_count": 9,
   "metadata": {},
   "outputs": [],
   "source": [
    "import math\n",
    "from random import *\n",
    "import turtle"
   ]
  },
  {
   "cell_type": "code",
   "execution_count": 3,
   "metadata": {
    "scrolled": true
   },
   "outputs": [],
   "source": [
    "t = turtle.Turtle()\n",
    "turtle.done()"
   ]
  },
  {
   "cell_type": "code",
   "execution_count": 115,
   "metadata": {},
   "outputs": [],
   "source": [
    "#functions\n",
    "def addTable():\n",
    "    #randomize table orientation\n",
    "    ns_table = bool(math.floor(random()*2))\n",
    "    if ns_table and sum(x.count(1) for x in table_placement_ns) == 0:\n",
    "        if sum(x.count(1) for x in table_placement_ew) == 0:\n",
    "            return -1\n",
    "        else:\n",
    "            ns_table = false\n",
    "    elif sum(x.count(1) for x in table_placement_ew) == 0:\n",
    "        if sum(x.count(1) for x in table_placement_ns) == 0:\n",
    "            return -1\n",
    "        else:\n",
    "            ns_table = true\n",
    "    table_x = table[1-ns_table]\n",
    "    table_y = table[ns_table]\n",
    "    if ns_table:\n",
    "        t = table_placement_ns\n",
    "    else:\n",
    "        t = table_placement_ew\n",
    "    #count how many available positions there are for the specific table orientation\n",
    "    available = sum(x.count(1) for x in t)\n",
    "    #rng for which position\n",
    "    num = math.floor(random()*available)\n",
    "    #put at that position\n",
    "    for i in range(class_y):\n",
    "        for j in range(class_x):\n",
    "            if t[i][j] == 1:\n",
    "                num -= 1\n",
    "            if num == 0:\n",
    "                x = j\n",
    "                y = i\n",
    "                break\n",
    "        if num == 0:\n",
    "            break\n",
    "            \n",
    "    #update classroom\n",
    "    for i in range(y, y+table_y):\n",
    "        for j in range(x,x+table_x):\n",
    "            classroom[i][j] = 1\n",
    "    \n",
    "    #update table_placement_ns\n",
    "    \n",
    "    #update table_placement_ew\n",
    "    \n",
    "    #update chair_placement\n",
    "        \n",
    "    tables.append([x, y, ns_table])"
   ]
  },
  {
   "cell_type": "code",
   "execution_count": 82,
   "metadata": {},
   "outputs": [],
   "source": [
    "#functions\n",
    "def addTable2(room, x, xlen, y, ylen):\n",
    "    for i in range(y,y+ylen):\n",
    "        for j in range(x,x+xlen):\n",
    "            room[i][j] = 1\n",
    "    return room\n",
    "def addChair(room, x, xlen, y, ylen):\n",
    "    for i in range(y,y+ylen):\n",
    "        for j in range(x,x+xlen):\n",
    "            room[i][j] = 2\n",
    "    return room"
   ]
  },
  {
   "cell_type": "code",
   "execution_count": 83,
   "metadata": {},
   "outputs": [
    {
     "name": "stdout",
     "output_type": "stream",
     "text": [
      "Enter width of classroom in feet: 20\n",
      "Enter length of classroom in feet: 30\n"
     ]
    }
   ],
   "source": [
    "#prompt input\n",
    "class_x = int(input(\"Enter width of classroom in feet: \"))\n",
    "class_y = int(input(\"Enter length of classroom in feet: \"))\n",
    "#table_x = input(\"Enter width of table in feet: \")\n",
    "#table_y = input(\"Enter length of table feet: \")\n",
    "#if (table_y > table_x):\n",
    "#    temp = table_y\n",
    "#    table_y = table_x\n",
    "#    table_x = temp\n",
    "#table == [int(table_y),int(table_x)]\n",
    "#table_num = input(\"Enter how many tables: \")\n",
    "#students = input(\"Enter how many students there are: \")\n",
    "chair_side = 2"
   ]
  },
  {
   "cell_type": "code",
   "execution_count": 105,
   "metadata": {},
   "outputs": [],
   "source": [
    "#set input\n",
    "table_x = 4\n",
    "table_y = 2\n",
    "table_num = 5\n",
    "students = 10\n",
    "table = [int(table_y),int(table_x)]"
   ]
  },
  {
   "cell_type": "code",
   "execution_count": 127,
   "metadata": {},
   "outputs": [],
   "source": [
    "#set up arrays\n",
    "tables = []\n",
    "chairs = []\n",
    "classroom = [[0 for i in range(class_x)] for j in range(class_y)]\n",
    "chair_placement = [[0 for i in range(class_x-(chair_side-1))] for j in range(class_y-(chair_side-1))]\n",
    "table_placement_ns = [[1 for i in range(class_x)] for j in range(class_y)]\n",
    "table_placement_ew = [[1 for i in range(class_x)] for j in range(class_y)]\n",
    "for i in range(class_y):\n",
    "    for j in range(class_x):\n",
    "        if j >= class_x-(table_x-1) or i >= class_y-(table_y-1):\n",
    "            table_placement_ew[i][j] = 0\n",
    "for i in range(class_y):\n",
    "    for j in range(class_x):\n",
    "        if j >= class_x-(table_y-1) or i >= class_y-(table_x-1):\n",
    "            table_placement_ns[i][j] = 0\n",
    "        \n",
    "#print(\"Clasroom:\")\n",
    "#for i in range(class_y):\n",
    "#    print(classroom[i], end = \"\\n\")\n",
    "#print(\"Table_ew:\")\n",
    "#for i in range(class_y):\n",
    "#    print(table_placement_ew[i], end = \"\\n\")\n",
    "#print(\"Table_ns:\")\n",
    "#for i in range(class_y):\n",
    "#    print(table_placement_ns[i], end = \"\\n\")\n",
    "#print(\"Chair:\")\n",
    "#for i in range(class_y-(chair_side-1)):\n",
    "#    print(chair_placement[i], end = \"\\n\")"
   ]
  },
  {
   "cell_type": "code",
   "execution_count": 128,
   "metadata": {},
   "outputs": [],
   "source": [
    "for i in range(table_num):\n",
    "    #if rand_orientation is 0, then the table is left/right\n",
    "    addTable()\n",
    "    #rand_orientation = math.floor(random()*2)\n",
    "    #table_x = table[rand_orientation]\n",
    "    #table_y = table[1-rand_orientation]\n",
    "    #rand_x = math.floor(random()*(class_x-table_x+1))\n",
    "    #rand_y = math.floor(random()*(class_y-table_y+1))\n",
    "    #classroom = addTable(classroom, rand_x, table_x, rand_y, table_y)\n",
    "    #tables.append([rand_x, rand_y, rand_orientation])\n",
    "#for i in range(students):\n",
    "#    num = 1+1\n",
    "#    rand_x = math.floor(random()*(class_x-chair_side+1))\n",
    "#    rand_y = math.floor(random()*(class_y-chair_side+1))\n",
    "#    classroom = addChair(classroom, rand_x, chair_side, rand_y, chair_side)\n",
    "#    chairs.append([rand_x, rand_y])"
   ]
  },
  {
   "cell_type": "code",
   "execution_count": 129,
   "metadata": {},
   "outputs": [
    {
     "name": "stdout",
     "output_type": "stream",
     "text": [
      "[0, 0, 0, 0, 0, 0, 0, 0, 0, 1, 1, 1, 1, 0, 0, 0, 0, 0, 0, 0]\n",
      "[0, 0, 0, 0, 0, 0, 0, 0, 0, 1, 1, 1, 1, 0, 0, 0, 0, 0, 0, 0]\n",
      "[0, 0, 0, 0, 0, 0, 0, 0, 0, 0, 0, 0, 0, 0, 0, 0, 0, 0, 0, 0]\n",
      "[0, 0, 0, 0, 0, 0, 0, 0, 0, 0, 0, 0, 0, 0, 0, 0, 0, 0, 0, 0]\n",
      "[0, 0, 0, 0, 0, 0, 0, 0, 0, 0, 0, 0, 0, 0, 0, 0, 0, 0, 0, 0]\n",
      "[0, 0, 0, 0, 0, 0, 0, 0, 0, 0, 0, 0, 0, 0, 0, 0, 0, 0, 0, 0]\n",
      "[0, 0, 0, 0, 0, 0, 0, 0, 0, 0, 0, 0, 0, 0, 0, 0, 0, 0, 0, 0]\n",
      "[0, 0, 0, 0, 0, 0, 0, 0, 0, 0, 1, 1, 1, 1, 0, 0, 0, 0, 0, 0]\n",
      "[0, 0, 0, 0, 0, 0, 0, 0, 0, 0, 1, 1, 1, 1, 0, 0, 0, 0, 0, 0]\n",
      "[0, 0, 0, 0, 0, 0, 0, 0, 0, 0, 0, 0, 0, 0, 0, 0, 0, 0, 0, 0]\n",
      "[0, 0, 0, 0, 0, 0, 0, 0, 0, 0, 0, 0, 0, 0, 0, 0, 0, 0, 0, 0]\n",
      "[0, 0, 0, 0, 0, 0, 0, 0, 0, 0, 0, 0, 0, 0, 0, 0, 0, 0, 0, 0]\n",
      "[0, 0, 0, 0, 0, 0, 0, 0, 0, 0, 0, 0, 0, 0, 0, 0, 0, 0, 0, 0]\n",
      "[0, 0, 0, 0, 0, 0, 0, 0, 0, 0, 0, 0, 0, 0, 1, 1, 0, 0, 0, 0]\n",
      "[0, 0, 0, 0, 0, 0, 0, 0, 0, 0, 0, 0, 0, 0, 1, 1, 1, 1, 1, 1]\n",
      "[0, 0, 0, 0, 0, 0, 0, 0, 0, 0, 0, 0, 0, 0, 1, 1, 1, 1, 1, 1]\n",
      "[0, 0, 0, 0, 0, 0, 0, 0, 0, 0, 0, 0, 0, 0, 1, 1, 0, 0, 0, 0]\n",
      "[0, 0, 0, 0, 0, 0, 0, 0, 0, 0, 0, 0, 0, 0, 0, 0, 0, 0, 0, 0]\n",
      "[0, 0, 0, 0, 0, 0, 0, 0, 0, 0, 0, 0, 0, 0, 0, 0, 0, 0, 0, 0]\n",
      "[0, 0, 0, 0, 0, 0, 0, 0, 0, 0, 0, 0, 0, 0, 0, 0, 0, 0, 0, 0]\n",
      "[0, 0, 0, 0, 0, 0, 0, 0, 0, 0, 0, 0, 0, 0, 0, 0, 0, 0, 0, 0]\n",
      "[0, 0, 0, 0, 0, 1, 1, 1, 1, 0, 0, 0, 0, 0, 0, 0, 0, 0, 0, 0]\n",
      "[0, 0, 0, 0, 0, 1, 1, 1, 1, 0, 0, 0, 0, 0, 0, 0, 0, 0, 0, 0]\n",
      "[0, 0, 0, 0, 0, 0, 0, 0, 0, 0, 0, 0, 0, 0, 0, 0, 0, 0, 0, 0]\n",
      "[0, 0, 0, 0, 0, 0, 0, 0, 0, 0, 0, 0, 0, 0, 0, 0, 0, 0, 0, 0]\n",
      "[0, 0, 0, 0, 0, 0, 0, 0, 0, 0, 0, 0, 0, 0, 0, 0, 0, 0, 0, 0]\n",
      "[0, 0, 0, 0, 0, 0, 0, 0, 0, 0, 0, 0, 0, 0, 0, 0, 0, 0, 0, 0]\n",
      "[0, 0, 0, 0, 0, 0, 0, 0, 0, 0, 0, 0, 0, 0, 0, 0, 0, 0, 0, 0]\n",
      "[0, 0, 0, 0, 0, 0, 0, 0, 0, 0, 0, 0, 0, 0, 0, 0, 0, 0, 0, 0]\n",
      "[0, 0, 0, 0, 0, 0, 0, 0, 0, 0, 0, 0, 0, 0, 0, 0, 0, 0, 0, 0]\n",
      "Tables: \n",
      "[[9, 0, False], [10, 7, False], [5, 21, False], [16, 14, False], [14, 13, True]]\n",
      "Chairs: \n",
      "[]\n"
     ]
    }
   ],
   "source": [
    "#Debug\n",
    "for i in range(class_y):\n",
    "    print(classroom[i], end = \"\\n\")\n",
    "print(\"Tables: \") \n",
    "print(tables)\n",
    "print(\"Chairs: \") \n",
    "print(chairs)"
   ]
  },
  {
   "cell_type": "code",
   "execution_count": 121,
   "metadata": {},
   "outputs": [
    {
     "data": {
      "text/plain": [
       "1"
      ]
     },
     "execution_count": 121,
     "metadata": {},
     "output_type": "execute_result"
    }
   ],
   "source": []
  },
  {
   "cell_type": "code",
   "execution_count": null,
   "metadata": {},
   "outputs": [],
   "source": []
  },
  {
   "cell_type": "code",
   "execution_count": null,
   "metadata": {},
   "outputs": [],
   "source": []
  }
 ],
 "metadata": {
  "kernelspec": {
   "display_name": "Python 3",
   "language": "python",
   "name": "python3"
  },
  "language_info": {
   "codemirror_mode": {
    "name": "ipython",
    "version": 3
   },
   "file_extension": ".py",
   "mimetype": "text/x-python",
   "name": "python",
   "nbconvert_exporter": "python",
   "pygments_lexer": "ipython3",
   "version": "3.8.3"
  }
 },
 "nbformat": 4,
 "nbformat_minor": 4
}
