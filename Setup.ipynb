{
 "cells": [
  {
   "cell_type": "code",
   "execution_count": 16,
   "metadata": {},
   "outputs": [],
   "source": [
    "import math\n",
    "from random import *\n",
    "import turtle"
   ]
  },
  {
   "cell_type": "code",
   "execution_count": 3,
   "metadata": {
    "scrolled": true
   },
   "outputs": [],
   "source": [
    "t = turtle.Turtle()\n",
    "turtle.done()"
   ]
  },
  {
   "cell_type": "code",
   "execution_count": 58,
   "metadata": {},
   "outputs": [],
   "source": [
    "#functions\n",
    "def addTable():\n",
    "    #randomize table orientation\n",
    "    ns_table = bool(math.floor(random()*2))\n",
    "    if ns_table and sum(x.count(1) for x in table_placement_ns) == 0:\n",
    "        if sum(x.count(1) for x in table_placement_ew) == 0:\n",
    "            return -1\n",
    "        else:\n",
    "            ns_table = false\n",
    "    elif sum(x.count(1) for x in table_placement_ew) == 0:\n",
    "        if sum(x.count(1) for x in table_placement_ns) == 0:\n",
    "            return -1\n",
    "        else:\n",
    "            ns_table = true\n",
    "    table_x = table[1-ns_table]\n",
    "    table_y = table[ns_table]\n",
    "    if ns_table:\n",
    "        t = table_placement_ns\n",
    "    else:\n",
    "        t = table_placement_ew\n",
    "    #count how many available positions there are for the specific table orientation\n",
    "    available = sum(x.count(1) for x in t)\n",
    "    #rng for which position\n",
    "    num = math.floor(random()*available)\n",
    "    #put at that position\n",
    "    for i in range(class_y):\n",
    "        for j in range(class_x):\n",
    "            if t[i][j] == 1:\n",
    "                num -= 1\n",
    "            if num == 0:\n",
    "                x = j\n",
    "                y = i\n",
    "                break\n",
    "        if num == 0:\n",
    "            break\n",
    "            \n",
    "    #update classroom\n",
    "    for i in range(y, y+table_y):\n",
    "        for j in range(x,x+table_x):\n",
    "            classroom[i][j] = 1\n",
    "    \n",
    "    #update table_placement_ns\n",
    "    for i in range(y-(table[1]-1), y+table[ns_table]):\n",
    "        for j in range(x-(table[0]-1), x+table[1-ns_table]):\n",
    "            if i >= 0 and i < class_y and j >= 0 and j < class_x:\n",
    "                table_placement_ns[i][j] = 0\n",
    "    \n",
    "    #update table_placement_ew\n",
    "    for i in range(y-(table[0]-1), y+table[ns_table]):\n",
    "        for j in range(x-(table[1]-1), x+table[1-ns_table]):\n",
    "            if i >= 0 and i < class_y and j >= 0 and j < class_x:\n",
    "                table_placement_ew[i][j] = 0\n",
    "    \n",
    "    #update chair_placement\n",
    "    for i in range(y-(table[0]-1), y+table[ns_table]):\n",
    "        for j in range(x-(table[1]-1), x+table[1-ns_table]):\n",
    "            if i >= 0 and i < class_y and j >= 0 and j < class_x:\n",
    "                chair_placement[i][j] = -1\n",
    "        \n",
    "    tables.append([x, y, ns_table])"
   ]
  },
  {
   "cell_type": "code",
   "execution_count": 2,
   "metadata": {},
   "outputs": [],
   "source": [
    "#functions\n",
    "def addTable2(room, x, xlen, y, ylen):\n",
    "    for i in range(y,y+ylen):\n",
    "        for j in range(x,x+xlen):\n",
    "            room[i][j] = 1\n",
    "    return room\n",
    "def addChair(room, x, xlen, y, ylen):\n",
    "    for i in range(y,y+ylen):\n",
    "        for j in range(x,x+xlen):\n",
    "            room[i][j] = 2\n",
    "    return room"
   ]
  },
  {
   "cell_type": "code",
   "execution_count": 3,
   "metadata": {},
   "outputs": [
    {
     "name": "stdout",
     "output_type": "stream",
     "text": [
      "Enter width of classroom in feet: 20\n",
      "Enter length of classroom in feet: 30\n"
     ]
    }
   ],
   "source": [
    "#prompt input\n",
    "class_x = int(input(\"Enter width of classroom in feet: \"))\n",
    "class_y = int(input(\"Enter length of classroom in feet: \"))\n",
    "#table_long = input(\"Enter length of table in feet: \")\n",
    "#table_short = input(\"Enter width of table feet: \")\n",
    "#if (table_short > table_long):\n",
    "#    temp = table_short\n",
    "#    table_short = table_long\n",
    "#    table_long = temp\n",
    "#table == [int(table_short),int(table_long)]\n",
    "#table_num = input(\"Enter how many tables: \")\n",
    "#students = input(\"Enter how many students there are: \")\n",
    "chair = [2,2] #make sure 0 index is smaller than 1 index"
   ]
  },
  {
   "cell_type": "code",
   "execution_count": 71,
   "metadata": {},
   "outputs": [],
   "source": [
    "#set input\n",
    "table_long = 6\n",
    "table_short = 2\n",
    "table_num = 5\n",
    "students = 10\n",
    "table = [int(table_short),int(table_long)]"
   ]
  },
  {
   "cell_type": "code",
   "execution_count": 72,
   "metadata": {},
   "outputs": [],
   "source": [
    "#set up arrays\n",
    "tables = []\n",
    "chairs = []\n",
    "classroom = [[0 for i in range(class_x)] for j in range(class_y)]\n",
    "chair_placement = [[0 for i in range(class_x)] for j in range(class_y)]\n",
    "for i in range(class_y):\n",
    "    chair_placement[i][class_x-1] = -1       \n",
    "for j in range(class_x):\n",
    "    chair_placement[class_y-1][j] = -1  \n",
    "table_placement_ns = [[1 for i in range(class_x)] for j in range(class_y)]\n",
    "table_placement_ew = [[1 for i in range(class_x)] for j in range(class_y)]\n",
    "for i in range(class_y):\n",
    "    for j in range(class_x):\n",
    "        if j >= class_x-(table_long-1) or i >= class_y-(table_short-1):\n",
    "            table_placement_ew[i][j] = 0\n",
    "for i in range(class_y):\n",
    "    for j in range(class_x):\n",
    "        if j >= class_x-(table_short-1) or i >= class_y-(table_long-1):\n",
    "            table_placement_ns[i][j] = 0"
   ]
  },
  {
   "cell_type": "code",
   "execution_count": 73,
   "metadata": {},
   "outputs": [],
   "source": [
    "for i in range(table_num):\n",
    "    addTable()"
   ]
  },
  {
   "cell_type": "code",
   "execution_count": 76,
   "metadata": {},
   "outputs": [
    {
     "name": "stdout",
     "output_type": "stream",
     "text": [
      "[0, 0, 0, 0, 0, 0, 0, 0, 0, 0, 0, 0, 0, 0, 0, 0, 0, 0, 0, 0]\n",
      "[0, 0, 0, 0, 0, 0, 0, 0, 0, 0, 0, 0, 0, 0, 0, 0, 0, 0, 0, 0]\n",
      "[0, 0, 0, 0, 0, 0, 0, 0, 0, 0, 0, 0, 0, 0, 1, 1, 1, 1, 1, 1]\n",
      "[0, 0, 0, 0, 0, 0, 0, 0, 0, 0, 0, 0, 0, 0, 1, 1, 1, 1, 1, 1]\n",
      "[0, 0, 0, 0, 0, 0, 0, 0, 0, 0, 0, 0, 0, 0, 0, 0, 0, 0, 0, 0]\n",
      "[1, 1, 1, 1, 1, 1, 0, 0, 0, 0, 0, 0, 0, 0, 0, 0, 0, 0, 0, 0]\n",
      "[1, 1, 1, 1, 1, 1, 0, 0, 0, 0, 0, 0, 0, 0, 0, 0, 0, 0, 0, 0]\n",
      "[0, 0, 0, 0, 0, 0, 0, 0, 0, 0, 0, 0, 0, 0, 0, 0, 0, 0, 0, 0]\n",
      "[0, 0, 0, 0, 0, 0, 0, 0, 0, 0, 0, 0, 0, 0, 0, 0, 0, 0, 0, 0]\n",
      "[0, 0, 0, 0, 0, 0, 0, 0, 0, 0, 0, 0, 0, 0, 0, 0, 0, 0, 0, 0]\n",
      "[0, 0, 0, 0, 0, 0, 0, 0, 0, 0, 0, 0, 0, 0, 0, 0, 0, 0, 0, 0]\n",
      "[0, 0, 0, 0, 0, 0, 0, 0, 0, 0, 0, 0, 0, 0, 0, 0, 0, 0, 0, 0]\n",
      "[0, 0, 0, 0, 0, 0, 0, 0, 0, 0, 0, 0, 0, 0, 0, 0, 0, 0, 0, 0]\n",
      "[0, 0, 0, 0, 1, 1, 1, 1, 1, 1, 0, 0, 0, 0, 0, 0, 0, 0, 0, 0]\n",
      "[0, 0, 0, 0, 1, 1, 1, 1, 1, 1, 0, 0, 0, 0, 0, 0, 0, 0, 0, 0]\n",
      "[0, 0, 0, 0, 0, 0, 0, 0, 0, 0, 0, 0, 0, 0, 0, 1, 1, 0, 0, 0]\n",
      "[0, 0, 0, 0, 0, 0, 0, 0, 0, 0, 0, 0, 0, 0, 0, 1, 1, 0, 0, 0]\n",
      "[0, 0, 1, 1, 0, 0, 0, 0, 0, 0, 0, 0, 0, 0, 0, 1, 1, 0, 0, 0]\n",
      "[0, 0, 1, 1, 0, 0, 0, 0, 0, 0, 0, 0, 0, 0, 0, 1, 1, 0, 0, 0]\n",
      "[0, 0, 1, 1, 0, 0, 0, 0, 0, 0, 0, 0, 0, 0, 0, 1, 1, 0, 0, 0]\n",
      "[0, 0, 1, 1, 0, 0, 0, 0, 0, 0, 0, 0, 0, 0, 0, 1, 1, 0, 0, 0]\n",
      "[0, 0, 1, 1, 0, 0, 0, 0, 0, 0, 0, 0, 0, 0, 0, 0, 0, 0, 0, 0]\n",
      "[0, 0, 1, 1, 0, 0, 0, 0, 0, 0, 0, 0, 0, 0, 0, 0, 0, 0, 0, 0]\n",
      "[0, 0, 0, 0, 0, 0, 0, 0, 0, 0, 0, 0, 0, 0, 0, 0, 0, 0, 0, 0]\n",
      "[0, 0, 0, 0, 0, 0, 0, 0, 0, 0, 0, 0, 0, 0, 0, 0, 0, 0, 0, 0]\n",
      "[0, 0, 0, 0, 0, 0, 0, 0, 0, 0, 0, 0, 0, 0, 0, 0, 0, 0, 0, 0]\n",
      "[0, 0, 0, 0, 0, 0, 0, 0, 0, 0, 0, 0, 0, 0, 0, 0, 0, 0, 0, 0]\n",
      "[0, 0, 0, 0, 0, 0, 0, 0, 0, 0, 0, 0, 0, 0, 0, 0, 0, 0, 0, 0]\n",
      "[0, 0, 0, 0, 0, 0, 0, 0, 0, 0, 0, 0, 0, 0, 0, 0, 0, 0, 0, 0]\n",
      "[0, 0, 0, 0, 0, 0, 0, 0, 0, 0, 0, 0, 0, 0, 0, 0, 0, 0, 0, 0]\n",
      "\n",
      "\n",
      "[0, 0, 0, 0, 0, 0, 0, 0, 0, 0, 0, 0, 0, 0, 0, 0, 0, 0, 0, -1]\n",
      "[0, 0, 0, 0, 0, 0, 0, 0, 0, 0, 0, 0, 0, 0, 0, 0, 0, 0, 0, -1]\n",
      "[0, 0, 0, 0, 0, 0, 0, 0, 0, 0, 0, 0, 0, 0, 0, 0, 0, 0, 0, -1]\n",
      "[0, 0, 0, 0, 0, 0, 0, 0, 0, 0, 0, 0, 0, 0, 0, 0, 0, 0, 0, -1]\n",
      "[0, 0, 0, 0, 0, 0, 0, 0, 0, 0, 0, 0, 0, 0, 0, 0, 0, 0, 0, -1]\n",
      "[0, 0, 0, 0, 0, 0, 0, 0, 0, 0, 0, 0, 0, 0, 0, 0, 0, 0, 0, -1]\n",
      "[0, 0, 0, 0, 0, 0, 0, 0, 0, 0, 0, 0, 0, 0, 0, 0, 0, 0, 0, -1]\n",
      "[0, 0, 0, 0, 0, 0, 0, 0, 0, 0, 0, 0, 0, 0, 0, 0, 0, 0, 0, -1]\n",
      "[0, 0, 0, 0, 0, 0, 0, 0, 0, 0, 0, 0, 0, 0, 0, 0, 0, 0, 0, -1]\n",
      "[0, 0, 0, 0, 0, 0, 0, 0, 0, 0, 0, 0, 0, 0, 0, 0, 0, 0, 0, -1]\n",
      "[0, 0, 0, 0, 0, 0, 0, 0, 0, 0, 0, 0, 0, 0, 0, 0, 0, 0, 0, -1]\n",
      "[0, 0, 0, 0, 0, 0, 0, 0, 0, 0, 0, 0, 0, 0, 0, 0, 0, 0, 0, -1]\n",
      "[0, 0, 0, 0, 0, 0, 0, 0, 0, 0, 0, 0, 0, 0, 0, 0, 0, 0, 0, -1]\n",
      "[0, 0, 0, 0, 0, 0, 0, 0, 0, 0, 0, 0, 0, 0, 0, 0, 0, 0, 0, -1]\n",
      "[0, 0, 0, 0, 0, 0, 0, 0, 0, 0, 0, 0, 0, 0, 0, 0, 0, 0, 0, -1]\n",
      "[0, 0, 0, 0, 0, 0, 0, 0, 0, 0, 0, 0, 0, 0, 0, 0, 0, 0, 0, -1]\n",
      "[0, 0, 0, 0, 0, 0, 0, 0, 0, 0, 0, 0, 0, 0, 0, 0, 0, 0, 0, -1]\n",
      "[0, 0, 0, 0, 0, 0, 0, 0, 0, 0, 0, 0, 0, 0, 0, 0, 0, 0, 0, -1]\n",
      "[0, 0, 0, 0, 0, 0, 0, 0, 0, 0, 0, 0, 0, 0, 0, 0, 0, 0, 0, -1]\n",
      "[0, 0, 0, 0, 0, 0, 0, 0, 0, 0, 0, 0, 0, 0, 0, 0, 0, 0, 0, -1]\n",
      "[0, 0, 0, 0, 0, 0, 0, 0, 0, 0, 0, 0, 0, 0, 0, 0, 0, 0, 0, -1]\n",
      "[0, 0, 0, 0, 0, 0, 0, 0, 0, 0, 0, 0, 0, 0, 0, 0, 0, 0, 0, -1]\n",
      "[0, 0, 0, 0, 0, 0, 0, 0, 0, 0, 0, 0, 0, 0, 0, 0, 0, 0, 0, -1]\n",
      "[0, 0, 0, 0, 0, 0, 0, 0, 0, 0, 0, 0, 0, 0, 0, 0, 0, 0, 0, -1]\n",
      "[0, 0, 0, 0, 0, 0, 0, 0, 0, 0, 0, 0, 0, 0, 0, 0, 0, 0, 0, -1]\n",
      "[0, 0, 0, 0, 0, 0, 0, 0, 0, 0, 0, 0, 0, 0, 0, 0, 0, 0, 0, -1]\n",
      "[0, 0, 0, 0, 0, 0, 0, 0, 0, 0, 0, 0, 0, 0, 0, 0, 0, 0, 0, -1]\n",
      "[0, 0, 0, 0, 0, 0, 0, 0, 0, 0, 0, 0, 0, 0, 0, 0, 0, 0, 0, -1]\n",
      "[0, 0, 0, 0, 0, 0, 0, 0, 0, 0, 0, 0, 0, 0, 0, 0, 0, 0, 0, -1]\n",
      "[-1, -1, -1, -1, -1, -1, -1, -1, -1, -1, -1, -1, -1, -1, -1, -1, -1, -1, -1, -1]\n",
      "Tables: \n",
      "[[2, 17, True], [4, 13, False], [0, 5, False], [14, 2, False], [15, 15, True]]\n",
      "Chairs: \n",
      "[]\n"
     ]
    }
   ],
   "source": [
    "#Debug\n",
    "for i in range(class_y):\n",
    "    print(classroom[i], end = \"\\n\")\n",
    "print(\"\\n\")\n",
    "#for i in range(class_y):\n",
    "#    print(table_placement_ns[i], end = \"\\n\")\n",
    "#for i in range(class_y):\n",
    "#    print(table_placement_ew[i], end = \"\\n\")\n",
    "for i in range(class_y):\n",
    "    print(chair_placement[i], end = \"\\n\")\n",
    "\n",
    "print(\"Tables: \") \n",
    "print(tables)\n",
    "print(\"Chairs: \") \n",
    "print(chairs)"
   ]
  },
  {
   "cell_type": "code",
   "execution_count": 35,
   "metadata": {},
   "outputs": [
    {
     "name": "stdout",
     "output_type": "stream",
     "text": [
      "2\n"
     ]
    }
   ],
   "source": []
  },
  {
   "cell_type": "code",
   "execution_count": null,
   "metadata": {},
   "outputs": [],
   "source": []
  },
  {
   "cell_type": "code",
   "execution_count": null,
   "metadata": {},
   "outputs": [],
   "source": []
  }
 ],
 "metadata": {
  "kernelspec": {
   "display_name": "Python 3",
   "language": "python",
   "name": "python3"
  },
  "language_info": {
   "codemirror_mode": {
    "name": "ipython",
    "version": 3
   },
   "file_extension": ".py",
   "mimetype": "text/x-python",
   "name": "python",
   "nbconvert_exporter": "python",
   "pygments_lexer": "ipython3",
   "version": "3.8.3"
  }
 },
 "nbformat": 4,
 "nbformat_minor": 4
}
